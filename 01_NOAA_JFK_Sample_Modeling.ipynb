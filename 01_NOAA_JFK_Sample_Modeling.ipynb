{
  "nbformat": 4,
  "nbformat_minor": 0,
  "metadata": {
    "colab": {
      "name": "NOAA JFK Sample Dataset.ipynb",
      "provenance": [],
      "collapsed_sections": [],
      "authorship_tag": "ABX9TyMvozeE5pKJW1efiCb67lul"
    },
    "kernelspec": {
      "name": "python3",
      "display_name": "Python 3"
    },
    "language_info": {
      "name": "python"
    }
  },
  "cells": [
    {
      "cell_type": "markdown",
      "source": [
        "# Introduction\n",
        "The project is to help predict the possibility of precipitations and its consequential flight delays by using various variables including temperature, wind speed, humidity, dew point, and pressure. The sample dataset used in the project contains 5727 rows (about 5% or original rows) and 9 variables.\n",
        "\n",
        "**About the Data Source:** The NOAA JFK dataset contains 114,546 hourly observations of various local climatological variables (including visibility, temperature, wind speed and direction, humidity, dew point, and pressure). The data was collected by a NOAA weather station located at the John F. Kennedy International Airport in Queens, New York.\n",
        "\n",
        "**Data Link (sample dataset):** https://dax-cdn.cdn.appdomain.cloud/dax-noaa-weather-data-jfk-airport/1.1.4/noaa-weather-sample-data.tar.gz\n",
        "\n",
        "**License:** CDLA-Sharing"
      ],
      "metadata": {
        "id": "MivTHMVWrmsf"
      }
    },
    {
      "cell_type": "code",
      "execution_count": null,
      "metadata": {
        "id": "Jy8gjNurrSrU"
      },
      "outputs": [],
      "source": [
        "# Installing tidymodels\n",
        "install.packages(\"tidymodels\")\n",
        "install.packages(\"rlang\")"
      ]
    },
    {
      "cell_type": "code",
      "execution_count": null,
      "metadata": {
        "id": "dno6G_QXtn4v"
      },
      "outputs": [],
      "source": [
        "# Load tidyverse & tidymodels\n",
        "library(tidyverse)\n",
        "library(tidymodels)"
      ]
    },
    {
      "cell_type": "markdown",
      "source": [
        "## Downloading and untarring the sample dataset"
      ],
      "metadata": {
        "id": "b5g0-mLtw6pX"
      }
    },
    {
      "cell_type": "code",
      "source": [
        "url <- \"https://dax-cdn.cdn.appdomain.cloud/dax-noaa-weather-data-jfk-airport/1.1.4/noaa-weather-sample-data.tar.gz\"\n",
        "download.file(url, destfile = \"noaa-weather-sample-data.tar.gz\")\n",
        "untar(\"noaa-weather-sample-data.tar.gz\", tar = \"internal\")"
      ],
      "metadata": {
        "id": "1OEGcieLw7TE"
      },
      "execution_count": null,
      "outputs": []
    },
    {
      "cell_type": "markdown",
      "source": [
        "## Exploring the data\n",
        "Reading the dataset and exploring its columns, number of rows and data types."
      ],
      "metadata": {
        "id": "YP0OIX2Hxk_E"
      }
    },
    {
      "cell_type": "code",
      "source": [
        "jfk_weather_sample_df <-read.csv(\"noaa-weather-sample-data/jfk_weather_sample.csv\")\n",
        "head(jfk_weather_sample_df)\n",
        "glimpse(jfk_weather_sample_df)"
      ],
      "metadata": {
        "id": "UFMK_vn4xlhS"
      },
      "execution_count": null,
      "outputs": []
    },
    {
      "cell_type": "markdown",
      "source": [
        "## Data Preprocessing\n",
        "For preprocessing the following columns are selected and inspected:\n",
        "\n",
        "* HOURLYRelativeHumidity\n",
        "* HOURLYDRYBULBTEMPF\n",
        "* HOURLYPrecip\n",
        "* HOURLYWindSpeed\n",
        "* HOURLYStationPressure"
      ],
      "metadata": {
        "id": "LUetqAE8ze4x"
      }
    },
    {
      "cell_type": "code",
      "source": [
        "jfk_weather_sub_df <- jfk_weather_sample_df %>%\n",
        " select(HOURLYRelativeHumidity, HOURLYDRYBULBTEMPF, HOURLYPrecip, HOURLYWindSpeed, HOURLYStationPressure)\n",
        "\n",
        "head(jfk_weather_sub_df, 10)"
      ],
      "metadata": {
        "id": "ZA_AWl1gyyod"
      },
      "execution_count": null,
      "outputs": []
    },
    {
      "cell_type": "code",
      "source": [
        "unique(jfk_weather_sub_df$HOURLYPrecip)"
      ],
      "metadata": {
        "id": "cB4KDuna0tam"
      },
      "execution_count": null,
      "outputs": []
    },
    {
      "cell_type": "markdown",
      "source": [
        "### Data Cleaning\n",
        "Cleaning values that have characters (\"T\" and \"s\")."
      ],
      "metadata": {
        "id": "GJ6sIsQg0mHw"
      }
    },
    {
      "cell_type": "code",
      "source": [
        "jfk_weather_sub_df2 <- jfk_weather_sub_df %>%\n",
        " mutate(HOURLYPrecip = str_replace_all(HOURLYPrecip, \"T\", \"0.0\"))\n",
        "\n",
        "jfk_weather_sub_df3 <- jfk_weather_sub_df2 %>%\n",
        " mutate(HOURLYPrecip = str_remove(HOURLYPrecip, pattern = \"s$\"))\n",
        "\n",
        "unique(jfk_weather_sub_df3$HOURLYPrecip)"
      ],
      "metadata": {
        "id": "m_0mgfM21IB5"
      },
      "execution_count": null,
      "outputs": []
    },
    {
      "cell_type": "markdown",
      "source": [
        "### Converting Datatype\n",
        "Convert HOURLYPrecip to the numeric"
      ],
      "metadata": {
        "id": "8D8yKWIq18CM"
      }
    },
    {
      "cell_type": "code",
      "source": [
        "jfk_weather_sub_df4 <- jfk_weather_sub_df3 %>%\n",
        "  mutate_all(type.convert) %>%\n",
        "  mutate_if(is.character, as.numeric)\n",
        "\n",
        "glimpse(jfk_weather_sub_df4)"
      ],
      "metadata": {
        "id": "6zH9_ir317SJ"
      },
      "execution_count": null,
      "outputs": []
    },
    {
      "cell_type": "markdown",
      "source": [
        "### Renaming Columns\n",
        "\n",
        "*   'HOURLYRelativeHumidity' to 'relative_humidity'\n",
        "*   'HOURLYDRYBULBTEMPF' to 'dry_bulb_temp_f'\n",
        "*   'HOURLYPrecip' to 'precip'\n",
        "*   'HOURLYWindSpeed' to 'wind_speed'\n",
        "*   'HOURLYStationPressure' to 'station_pressure'"
      ],
      "metadata": {
        "id": "gJLp8Sd32c9r"
      }
    },
    {
      "cell_type": "code",
      "source": [
        "jfk_weather_sub_df5 <- jfk_weather_sub_df4 %>% \n",
        "rename('relative_humidity' = 'HOURLYRelativeHumidity',\n",
        "'dry_bulb_temp_f' = 'HOURLYDRYBULBTEMPF',\n",
        "'precip' = 'HOURLYPrecip',\n",
        "'wind_speed' = 'HOURLYWindSpeed',\n",
        "'station_pressure' = 'HOURLYStationPressure')\n",
        "\n",
        "glimpse(jfk_weather_sub_df5)"
      ],
      "metadata": {
        "id": "HqlX-ahr2dZo"
      },
      "execution_count": null,
      "outputs": []
    },
    {
      "cell_type": "markdown",
      "source": [
        "## Data Training - Train/Test Split\n",
        "Splitting the data into a training (80%) and testing set (20%)."
      ],
      "metadata": {
        "id": "NUjm7Dux4ZHB"
      }
    },
    {
      "cell_type": "code",
      "source": [
        "set.seed(1234)\n",
        "train_test <- initial_split(jfk_weather_sub_df5, prop = 0.8)\n",
        "train_set <- training(train_test)\n",
        "test_set <- testing(train_test)"
      ],
      "metadata": {
        "id": "ZD3Hx-TN4o4R"
      },
      "execution_count": null,
      "outputs": []
    },
    {
      "cell_type": "markdown",
      "source": [
        "## Data Modeling - Simple Linear Regression\n",
        "Exploring four simple linear regression models where:\n",
        "* precip as the dependent variable ~ relative_humidity as independent variable\n",
        "* precip ~ dry_bulb_temp_f\n",
        "* precip ~ wind_speed\n",
        "* precip ~ station_pressure\n",
        "\n",
        "Also calculating R Square and RMSE for each model along the way."
      ],
      "metadata": {
        "id": "UeDAPXRb46Pp"
      }
    },
    {
      "cell_type": "code",
      "source": [
        "lm_1_train <- lm(precip ~ relative_humidity, data = train_set)\n",
        "lm_1_train\n",
        "\n",
        "mse_lm_1_train <- mean(lm_1_train$residuals^2)\n",
        "mse_lm_1_train\n",
        "\n",
        "rmse_lm_1_train <- sqrt(mse_lm_1_train)\n",
        "rmse_lm_1_train\n",
        "\n",
        "summary(lm_1_train)$r.squared\n",
        "\n",
        "\n",
        "train_set %>%\n",
        "ggplot(aes(relative_humidity, precip))+\n",
        "  geom_point()"
      ],
      "metadata": {
        "id": "5HwEZEWB5CTl"
      },
      "execution_count": null,
      "outputs": []
    },
    {
      "cell_type": "code",
      "source": [
        "lm_2_train <- lm(precip ~ dry_bulb_temp_f, data = train_set)\n",
        "lm_2_train\n",
        "\n",
        "mse_lm_2_train <- mean(lm_2_train$residuals^2)\n",
        "mse_lm_2_train\n",
        "\n",
        "rmse_lm_2_train <- sqrt(mse_lm_2_train)\n",
        "rmse_lm_2_train\n",
        "\n",
        "summary(lm_2_train)$r.squared\n",
        "\n",
        "\n",
        "train_set %>%\n",
        "ggplot(aes(dry_bulb_temp_f, precip))+\n",
        "  geom_point()"
      ],
      "metadata": {
        "id": "cFUCC-1N6H2b"
      },
      "execution_count": null,
      "outputs": []
    },
    {
      "cell_type": "code",
      "source": [
        "lm_3_train <- lm(precip ~ wind_speed, data = train_set)\n",
        "lm_3_train\n",
        "\n",
        "mse_lm_3_train <- mean(lm_3_train$residuals^2)\n",
        "mse_lm_3_train\n",
        "\n",
        "rmse_lm_3_train <- sqrt(mse_lm_3_train)\n",
        "rmse_lm_3_train\n",
        "\n",
        "summary(lm_3_train)$r.squared\n",
        "\n",
        "\n",
        "train_set %>%\n",
        "ggplot(aes(wind_speed, precip))+\n",
        "  geom_point()"
      ],
      "metadata": {
        "id": "h41JWwdq6NDB"
      },
      "execution_count": null,
      "outputs": []
    },
    {
      "cell_type": "code",
      "source": [
        "lm_4_train <- lm(precip ~ station_pressure, data = train_set)\n",
        "lm_4_train\n",
        "\n",
        "mse_lm_4_train <- mean(lm_4_train$residuals^2)\n",
        "mse_lm_4_train\n",
        "\n",
        "rmse_lm_4_train <- sqrt(mse_lm_4_train)\n",
        "rmse_lm_4_train\n",
        "\n",
        "summary(lm_4_train)$r.squared\n",
        "\n",
        "train_set %>%\n",
        "ggplot(aes(station_pressure, precip))+\n",
        "  geom_point()"
      ],
      "metadata": {
        "id": "ruz9eWIr6PuY"
      },
      "execution_count": null,
      "outputs": []
    },
    {
      "cell_type": "markdown",
      "source": [
        "## Data Modeling - Multiple Linear Regression\n",
        "Exploring two multiple linear regression models:\n",
        "\n",
        "* precip ~ relative_humidity + station_pressure \n",
        "* precip ~ relative_humidity + station_pressure + wind_speed\n",
        "\n",
        "Also calculating R Square and RMSE for each model along the way."
      ],
      "metadata": {
        "id": "Pnaf_tR76dMy"
      }
    },
    {
      "cell_type": "code",
      "source": [
        "mlr_1_train <- lm(precip ~ relative_humidity + station_pressure, data = train_set)\n",
        "mlr_1_train\n",
        "\n",
        "mse_mlr_1_train <- mean(mlr_1_train$residuals^2)\n",
        "mse_mlr_1_train\n",
        "\n",
        "rmse_mlr_1_train <- sqrt(mse_mlr_1_train)\n",
        "rmse_mlr_1_train\n",
        "\n",
        "summary(mlr_1_train)$r.squared"
      ],
      "metadata": {
        "id": "XPgVwAW772wu"
      },
      "execution_count": null,
      "outputs": []
    },
    {
      "cell_type": "code",
      "source": [
        "mlr_2_train <- lm(precip ~ relative_humidity + station_pressure + wind_speed, data = train_set)\n",
        "mlr_2_train\n",
        "\n",
        "mse_mlr_2_train <- mean(mlr_2_train$residuals^2)\n",
        "mse_mlr_2_train\n",
        "\n",
        "rmse_mlr_2_train <- sqrt(mse_mlr_2_train)\n",
        "rmse_mlr_2_train\n",
        "\n",
        "summary(mlr_2_train)$r.squared"
      ],
      "metadata": {
        "id": "7-7O707M76Ox"
      },
      "execution_count": null,
      "outputs": []
    },
    {
      "cell_type": "markdown",
      "source": [
        "## Evaluating the models on the testing set"
      ],
      "metadata": {
        "id": "R1M6Wcyg72MH"
      }
    },
    {
      "cell_type": "code",
      "source": [
        "lm_1_test <- lm(precip ~ relative_humidity, data = test_set)\n",
        "\n",
        "mse_lm_1_test <- mean(lm_1_test$residuals^2)\n",
        "mse_lm_1_test\n",
        "\n",
        "rmse_lm_1_test <- sqrt(mse_lm_1_test)\n",
        "rmse_lm_1_test\n",
        "\n",
        "summary(lm_1_test)$r.squared"
      ],
      "metadata": {
        "id": "8LFnU-F28Mlw"
      },
      "execution_count": null,
      "outputs": []
    },
    {
      "cell_type": "code",
      "source": [
        "lm_2_test <- lm(precip ~ dry_bulb_temp_f, data = test_set)\n",
        "\n",
        "mse_lm_2_test <- mean(lm_2_test$residuals^2)\n",
        "mse_lm_2_test\n",
        "\n",
        "rmse_lm_2_test <- sqrt(mse_lm_2_test)\n",
        "rmse_lm_2_test\n",
        "\n",
        "summary(lm_2_test)$r.squared"
      ],
      "metadata": {
        "id": "-x2m66ok8RTP"
      },
      "execution_count": null,
      "outputs": []
    },
    {
      "cell_type": "code",
      "source": [
        "lm_3_test <- lm(precip ~ wind_speed, data = test_set)\n",
        "\n",
        "mse_lm_3_test <- mean(lm_3_test$residuals^2)\n",
        "mse_lm_3_test\n",
        "\n",
        "rmse_lm_3_test <- sqrt(mse_lm_3_test)\n",
        "rmse_lm_3_test\n",
        "\n",
        "summary(lm_3_test)$r.squared"
      ],
      "metadata": {
        "id": "q5dCxzZj8Tt4"
      },
      "execution_count": null,
      "outputs": []
    },
    {
      "cell_type": "code",
      "source": [
        "lm_4_test <- lm(precip ~ station_pressure, data = test_set)\n",
        "\n",
        "mse_lm_4_test <- mean(lm_4_test$residuals^2)\n",
        "mse_lm_4_test\n",
        "\n",
        "rmse_lm_4_test <- sqrt(mse_lm_4_test)\n",
        "rmse_lm_4_test\n",
        "\n",
        "summary(lm_4_test)$r.squared"
      ],
      "metadata": {
        "id": "ME20D9p18Ww2"
      },
      "execution_count": null,
      "outputs": []
    },
    {
      "cell_type": "code",
      "source": [
        "mlr_1_test <- lm(precip ~ relative_humidity + station_pressure, data = test_set)\n",
        "\n",
        "mse_mlr_1_test <- mean(mlr_1_test$residuals^2)\n",
        "mse_mlr_1_test\n",
        "\n",
        "rmse_mlr_1_test <- sqrt(mse_mlr_1_test)\n",
        "rmse_mlr_1_test\n",
        "\n",
        "summary(mlr_1_test)$r.squared"
      ],
      "metadata": {
        "id": "pn817-Jg8Z17"
      },
      "execution_count": null,
      "outputs": []
    },
    {
      "cell_type": "code",
      "source": [
        "mlr_2_test <- lm(precip ~ relative_humidity + station_pressure + wind_speed, data = test_set)\n",
        "\n",
        "mse_mlr_2_test <- mean(mlr_2_test$residuals^2)\n",
        "mse_mlr_2_test\n",
        "\n",
        "rmse_mlr_2_test <- sqrt(mse_mlr_2_test)\n",
        "rmse_mlr_2_test\n",
        "\n",
        "summary(mlr_2_test)$r.squared"
      ],
      "metadata": {
        "id": "Lol8q2hd8b_8"
      },
      "execution_count": null,
      "outputs": []
    },
    {
      "cell_type": "markdown",
      "source": [
        "## Finding the best model\n",
        "Evaluating the best model based on the highest R Square and the lowest RMSE."
      ],
      "metadata": {
        "id": "TgR4VTKw8nqK"
      }
    },
    {
      "cell_type": "code",
      "source": [
        "model_names <- c(\"lm_1\", \"lm_2\", \"lm_3\", \"lm_4\", \"mlr_1\", \"mlr_2\")\n",
        "train_rmse <- c(\"0.042633884986004\", \"0.043392385033562\", \"0.0433315518426125\", \"0.0430772440922356\", \"0.0425098471997881\", \"0.0423731277100182\")\n",
        "test_rmse <- c(\"0.03322053062065\", \"0.0342407570726119\", \"0.0336190623854605\", \"0.0336635239626001\", \"0.0329297928037371\", \"0.0321171813867534\")\n",
        "train_rsquared <- c(\"0.0348125959119728\", \"0.00016376925087888\", \"0.00296520979252207\", \"0.01557426038156\", \"0.0413364254294442\", \"0.0474929860384939\")\n",
        "test_rsquared <- c(\"0.0587280705157021\", \"0.0000260319245104704\", \"0.0360085732827907\", \"0.0334571088498333\", \"0.0751315309095512\", \"0.120214446648217\")\n",
        "comparison_df <- data.frame(model_names, train_rmse, test_rmse, train_rsquared, test_rsquared)"
      ],
      "metadata": {
        "id": "6Qm6uA1G8q7b"
      },
      "execution_count": null,
      "outputs": []
    },
    {
      "cell_type": "code",
      "source": [
        "comparison_df %>%\n",
        "#Comparison data frame is arrnaged by descending R-Squared values and ascending RMSE values\n",
        "arrange(desc(train_rsquared), train_rmse)\n",
        "#Based on the outcome, the mlr_2 offers the best model since the model has the highest R Square and the lowest RMSE."
      ],
      "metadata": {
        "id": "xuq4kHcg80mD"
      },
      "execution_count": null,
      "outputs": []
    }
  ]
}