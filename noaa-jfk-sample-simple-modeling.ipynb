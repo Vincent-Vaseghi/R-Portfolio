{
 "cells": [
  {
   "cell_type": "markdown",
   "id": "5c346691",
   "metadata": {
    "id": "MivTHMVWrmsf",
    "papermill": {
     "duration": 0.008704,
     "end_time": "2022-07-26T01:06:48.513303",
     "exception": false,
     "start_time": "2022-07-26T01:06:48.504599",
     "status": "completed"
    },
    "tags": []
   },
   "source": [
    "# Introduction\n",
    "The project is to help predict the possibility of precipitations and its consequential flight delays by using various variables including temperature, wind speed, humidity, dew point, and pressure. The sample dataset used in the project contains 5727 rows (about 5% or original rows) and 9 variables.\n",
    "\n",
    "**About the Data Source:** The NOAA JFK dataset contains 114,546 hourly observations of various local climatological variables (including visibility, temperature, wind speed and direction, humidity, dew point, and pressure). The data was collected by a NOAA weather station located at the John F. Kennedy International Airport in Queens, New York.\n",
    "\n",
    "**Data Link (sample dataset):** https://dax-cdn.cdn.appdomain.cloud/dax-noaa-weather-data-jfk-airport/1.1.4/noaa-weather-sample-data.tar.gz\n",
    "\n",
    "**License:** CDLA-Sharing"
   ]
  },
  {
   "cell_type": "code",
   "execution_count": 1,
   "id": "28784379",
   "metadata": {
    "execution": {
     "iopub.execute_input": "2022-07-26T01:06:48.531698Z",
     "iopub.status.busy": "2022-07-26T01:06:48.529755Z",
     "iopub.status.idle": "2022-07-26T01:07:24.887954Z",
     "shell.execute_reply": "2022-07-26T01:07:24.884867Z"
    },
    "id": "Jy8gjNurrSrU",
    "papermill": {
     "duration": 36.3896,
     "end_time": "2022-07-26T01:07:24.910120",
     "exception": false,
     "start_time": "2022-07-26T01:06:48.520520",
     "status": "completed"
    },
    "tags": []
   },
   "outputs": [
    {
     "name": "stderr",
     "output_type": "stream",
     "text": [
      "Installing package into ‘/usr/local/lib/R/site-library’\n",
      "(as ‘lib’ is unspecified)\n",
      "\n",
      "Installing package into ‘/usr/local/lib/R/site-library’\n",
      "(as ‘lib’ is unspecified)\n",
      "\n",
      "Warning message in install.packages(\"rlang\"):\n",
      "“installation of package ‘rlang’ had non-zero exit status”\n"
     ]
    }
   ],
   "source": [
    "# Installing tidymodels\n",
    "install.packages(\"tidymodels\")\n",
    "install.packages(\"rlang\")"
   ]
  },
  {
   "cell_type": "code",
   "execution_count": 2,
   "id": "86c4c190",
   "metadata": {
    "execution": {
     "iopub.execute_input": "2022-07-26T01:07:24.955797Z",
     "iopub.status.busy": "2022-07-26T01:07:24.927325Z",
     "iopub.status.idle": "2022-07-26T01:07:27.792949Z",
     "shell.execute_reply": "2022-07-26T01:07:27.791332Z"
    },
    "id": "dno6G_QXtn4v",
    "papermill": {
     "duration": 2.877495,
     "end_time": "2022-07-26T01:07:27.795361",
     "exception": false,
     "start_time": "2022-07-26T01:07:24.917866",
     "status": "completed"
    },
    "tags": []
   },
   "outputs": [
    {
     "name": "stderr",
     "output_type": "stream",
     "text": [
      "── \u001b[1mAttaching packages\u001b[22m ─────────────────────────────────────── tidyverse 1.3.1 ──\n",
      "\n",
      "\u001b[32m✔\u001b[39m \u001b[34mggplot2\u001b[39m 3.3.6     \u001b[32m✔\u001b[39m \u001b[34mpurrr  \u001b[39m 0.3.4\n",
      "\u001b[32m✔\u001b[39m \u001b[34mtibble \u001b[39m 3.1.7     \u001b[32m✔\u001b[39m \u001b[34mdplyr  \u001b[39m 1.0.9\n",
      "\u001b[32m✔\u001b[39m \u001b[34mtidyr  \u001b[39m 1.2.0     \u001b[32m✔\u001b[39m \u001b[34mstringr\u001b[39m 1.4.0\n",
      "\u001b[32m✔\u001b[39m \u001b[34mreadr  \u001b[39m 2.1.2     \u001b[32m✔\u001b[39m \u001b[34mforcats\u001b[39m 0.5.1\n",
      "\n",
      "── \u001b[1mConflicts\u001b[22m ────────────────────────────────────────── tidyverse_conflicts() ──\n",
      "\u001b[31m✖\u001b[39m \u001b[34mdplyr\u001b[39m::\u001b[32mfilter()\u001b[39m masks \u001b[34mstats\u001b[39m::filter()\n",
      "\u001b[31m✖\u001b[39m \u001b[34mdplyr\u001b[39m::\u001b[32mlag()\u001b[39m    masks \u001b[34mstats\u001b[39m::lag()\n",
      "\n",
      "── \u001b[1mAttaching packages\u001b[22m ────────────────────────────────────── tidymodels 1.0.0 ──\n",
      "\n",
      "\u001b[32m✔\u001b[39m \u001b[34mbroom       \u001b[39m 1.0.0     \u001b[32m✔\u001b[39m \u001b[34mrsample     \u001b[39m 1.0.0\n",
      "\u001b[32m✔\u001b[39m \u001b[34mdials       \u001b[39m 1.0.0     \u001b[32m✔\u001b[39m \u001b[34mtune        \u001b[39m 1.0.0\n",
      "\u001b[32m✔\u001b[39m \u001b[34minfer       \u001b[39m 1.0.2     \u001b[32m✔\u001b[39m \u001b[34mworkflows   \u001b[39m 1.0.0\n",
      "\u001b[32m✔\u001b[39m \u001b[34mmodeldata   \u001b[39m 1.0.0     \u001b[32m✔\u001b[39m \u001b[34mworkflowsets\u001b[39m 1.0.0\n",
      "\u001b[32m✔\u001b[39m \u001b[34mparsnip     \u001b[39m 1.0.0     \u001b[32m✔\u001b[39m \u001b[34myardstick   \u001b[39m 1.0.0\n",
      "\u001b[32m✔\u001b[39m \u001b[34mrecipes     \u001b[39m 1.0.1     \n",
      "\n",
      "── \u001b[1mConflicts\u001b[22m ───────────────────────────────────────── tidymodels_conflicts() ──\n",
      "\u001b[31m✖\u001b[39m \u001b[34mscales\u001b[39m::\u001b[32mdiscard()\u001b[39m masks \u001b[34mpurrr\u001b[39m::discard()\n",
      "\u001b[31m✖\u001b[39m \u001b[34mdplyr\u001b[39m::\u001b[32mfilter()\u001b[39m   masks \u001b[34mstats\u001b[39m::filter()\n",
      "\u001b[31m✖\u001b[39m \u001b[34mrecipes\u001b[39m::\u001b[32mfixed()\u001b[39m  masks \u001b[34mstringr\u001b[39m::fixed()\n",
      "\u001b[31m✖\u001b[39m \u001b[34mdplyr\u001b[39m::\u001b[32mlag()\u001b[39m      masks \u001b[34mstats\u001b[39m::lag()\n",
      "\u001b[31m✖\u001b[39m \u001b[34myardstick\u001b[39m::\u001b[32mspec()\u001b[39m masks \u001b[34mreadr\u001b[39m::spec()\n",
      "\u001b[31m✖\u001b[39m \u001b[34mrecipes\u001b[39m::\u001b[32mstep()\u001b[39m   masks \u001b[34mstats\u001b[39m::step()\n",
      "\u001b[34m•\u001b[39m Use suppressPackageStartupMessages() to eliminate package startup messages\n",
      "\n"
     ]
    }
   ],
   "source": [
    "# Load tidyverse & tidymodels\n",
    "library(tidyverse)\n",
    "library(tidymodels)"
   ]
  },
  {
   "cell_type": "markdown",
   "id": "a155f235",
   "metadata": {
    "id": "b5g0-mLtw6pX",
    "papermill": {
     "duration": 0.007754,
     "end_time": "2022-07-26T01:07:27.810810",
     "exception": false,
     "start_time": "2022-07-26T01:07:27.803056",
     "status": "completed"
    },
    "tags": []
   },
   "source": [
    "## Downloading and untarring the sample dataset"
   ]
  },
  {
   "cell_type": "code",
   "execution_count": 3,
   "id": "b2de9870",
   "metadata": {
    "execution": {
     "iopub.execute_input": "2022-07-26T01:07:27.829389Z",
     "iopub.status.busy": "2022-07-26T01:07:27.827483Z",
     "iopub.status.idle": "2022-07-26T01:07:29.206131Z",
     "shell.execute_reply": "2022-07-26T01:07:29.204343Z"
    },
    "id": "1OEGcieLw7TE",
    "papermill": {
     "duration": 1.391157,
     "end_time": "2022-07-26T01:07:29.209406",
     "exception": false,
     "start_time": "2022-07-26T01:07:27.818249",
     "status": "completed"
    },
    "tags": []
   },
   "outputs": [
    {
     "name": "stderr",
     "output_type": "stream",
     "text": [
      "Warning message in untar2(tarfile, files, list, exdir, restore_times):\n",
      "“using pax extended headers”\n"
     ]
    }
   ],
   "source": [
    "url <- \"https://dax-cdn.cdn.appdomain.cloud/dax-noaa-weather-data-jfk-airport/1.1.4/noaa-weather-sample-data.tar.gz\"\n",
    "download.file(url, destfile = \"noaa-weather-sample-data.tar.gz\")\n",
    "untar(\"noaa-weather-sample-data.tar.gz\", tar = \"internal\")"
   ]
  },
  {
   "cell_type": "markdown",
   "id": "5465c09e",
   "metadata": {
    "id": "YP0OIX2Hxk_E",
    "papermill": {
     "duration": 0.008306,
     "end_time": "2022-07-26T01:07:29.226008",
     "exception": false,
     "start_time": "2022-07-26T01:07:29.217702",
     "status": "completed"
    },
    "tags": []
   },
   "source": [
    "## Exploring the data\n",
    "Reading the dataset and exploring its columns, number of rows and data types."
   ]
  },
  {
   "cell_type": "code",
   "execution_count": 4,
   "id": "e2fea58a",
   "metadata": {
    "execution": {
     "iopub.execute_input": "2022-07-26T01:07:29.245289Z",
     "iopub.status.busy": "2022-07-26T01:07:29.243732Z",
     "iopub.status.idle": "2022-07-26T01:07:29.311768Z",
     "shell.execute_reply": "2022-07-26T01:07:29.310081Z"
    },
    "id": "UFMK_vn4xlhS",
    "papermill": {
     "duration": 0.080152,
     "end_time": "2022-07-26T01:07:29.314100",
     "exception": false,
     "start_time": "2022-07-26T01:07:29.233948",
     "status": "completed"
    },
    "tags": []
   },
   "outputs": [
    {
     "data": {
      "text/html": [
       "<table class=\"dataframe\">\n",
       "<caption>A data.frame: 6 × 9</caption>\n",
       "<thead>\n",
       "\t<tr><th></th><th scope=col>DATE</th><th scope=col>HOURLYDewPointTempF</th><th scope=col>HOURLYRelativeHumidity</th><th scope=col>HOURLYDRYBULBTEMPF</th><th scope=col>HOURLYWETBULBTEMPF</th><th scope=col>HOURLYPrecip</th><th scope=col>HOURLYWindSpeed</th><th scope=col>HOURLYSeaLevelPressure</th><th scope=col>HOURLYStationPressure</th></tr>\n",
       "\t<tr><th></th><th scope=col>&lt;chr&gt;</th><th scope=col>&lt;chr&gt;</th><th scope=col>&lt;int&gt;</th><th scope=col>&lt;int&gt;</th><th scope=col>&lt;int&gt;</th><th scope=col>&lt;chr&gt;</th><th scope=col>&lt;int&gt;</th><th scope=col>&lt;dbl&gt;</th><th scope=col>&lt;dbl&gt;</th></tr>\n",
       "</thead>\n",
       "<tbody>\n",
       "\t<tr><th scope=row>1</th><td>2015-07-25T13:51:00Z</td><td>60</td><td>46</td><td>83</td><td>68</td><td>0.00</td><td>13</td><td>30.01</td><td>29.99</td></tr>\n",
       "\t<tr><th scope=row>2</th><td>2016-11-18T23:51:00Z</td><td>34</td><td>48</td><td>53</td><td>44</td><td>0.00</td><td> 6</td><td>30.05</td><td>30.03</td></tr>\n",
       "\t<tr><th scope=row>3</th><td>2013-01-06T08:51:00Z</td><td>33</td><td>89</td><td>36</td><td>35</td><td>0.00</td><td>13</td><td>30.14</td><td>30.12</td></tr>\n",
       "\t<tr><th scope=row>4</th><td>2011-01-27T16:51:00Z</td><td>18</td><td>48</td><td>36</td><td>30</td><td>0.00</td><td>14</td><td>29.82</td><td>29.80</td></tr>\n",
       "\t<tr><th scope=row>5</th><td>2015-01-03T12:16:00Z</td><td>27</td><td>61</td><td>39</td><td>34</td><td>T   </td><td>11</td><td>   NA</td><td>30.50</td></tr>\n",
       "\t<tr><th scope=row>6</th><td>2013-02-15T20:51:00Z</td><td>35</td><td>79</td><td>41</td><td>38</td><td>0.00</td><td> 6</td><td>29.94</td><td>29.92</td></tr>\n",
       "</tbody>\n",
       "</table>\n"
      ],
      "text/latex": [
       "A data.frame: 6 × 9\n",
       "\\begin{tabular}{r|lllllllll}\n",
       "  & DATE & HOURLYDewPointTempF & HOURLYRelativeHumidity & HOURLYDRYBULBTEMPF & HOURLYWETBULBTEMPF & HOURLYPrecip & HOURLYWindSpeed & HOURLYSeaLevelPressure & HOURLYStationPressure\\\\\n",
       "  & <chr> & <chr> & <int> & <int> & <int> & <chr> & <int> & <dbl> & <dbl>\\\\\n",
       "\\hline\n",
       "\t1 & 2015-07-25T13:51:00Z & 60 & 46 & 83 & 68 & 0.00 & 13 & 30.01 & 29.99\\\\\n",
       "\t2 & 2016-11-18T23:51:00Z & 34 & 48 & 53 & 44 & 0.00 &  6 & 30.05 & 30.03\\\\\n",
       "\t3 & 2013-01-06T08:51:00Z & 33 & 89 & 36 & 35 & 0.00 & 13 & 30.14 & 30.12\\\\\n",
       "\t4 & 2011-01-27T16:51:00Z & 18 & 48 & 36 & 30 & 0.00 & 14 & 29.82 & 29.80\\\\\n",
       "\t5 & 2015-01-03T12:16:00Z & 27 & 61 & 39 & 34 & T    & 11 &    NA & 30.50\\\\\n",
       "\t6 & 2013-02-15T20:51:00Z & 35 & 79 & 41 & 38 & 0.00 &  6 & 29.94 & 29.92\\\\\n",
       "\\end{tabular}\n"
      ],
      "text/markdown": [
       "\n",
       "A data.frame: 6 × 9\n",
       "\n",
       "| <!--/--> | DATE &lt;chr&gt; | HOURLYDewPointTempF &lt;chr&gt; | HOURLYRelativeHumidity &lt;int&gt; | HOURLYDRYBULBTEMPF &lt;int&gt; | HOURLYWETBULBTEMPF &lt;int&gt; | HOURLYPrecip &lt;chr&gt; | HOURLYWindSpeed &lt;int&gt; | HOURLYSeaLevelPressure &lt;dbl&gt; | HOURLYStationPressure &lt;dbl&gt; |\n",
       "|---|---|---|---|---|---|---|---|---|---|\n",
       "| 1 | 2015-07-25T13:51:00Z | 60 | 46 | 83 | 68 | 0.00 | 13 | 30.01 | 29.99 |\n",
       "| 2 | 2016-11-18T23:51:00Z | 34 | 48 | 53 | 44 | 0.00 |  6 | 30.05 | 30.03 |\n",
       "| 3 | 2013-01-06T08:51:00Z | 33 | 89 | 36 | 35 | 0.00 | 13 | 30.14 | 30.12 |\n",
       "| 4 | 2011-01-27T16:51:00Z | 18 | 48 | 36 | 30 | 0.00 | 14 | 29.82 | 29.80 |\n",
       "| 5 | 2015-01-03T12:16:00Z | 27 | 61 | 39 | 34 | T    | 11 |    NA | 30.50 |\n",
       "| 6 | 2013-02-15T20:51:00Z | 35 | 79 | 41 | 38 | 0.00 |  6 | 29.94 | 29.92 |\n",
       "\n"
      ],
      "text/plain": [
       "  DATE                 HOURLYDewPointTempF HOURLYRelativeHumidity\n",
       "1 2015-07-25T13:51:00Z 60                  46                    \n",
       "2 2016-11-18T23:51:00Z 34                  48                    \n",
       "3 2013-01-06T08:51:00Z 33                  89                    \n",
       "4 2011-01-27T16:51:00Z 18                  48                    \n",
       "5 2015-01-03T12:16:00Z 27                  61                    \n",
       "6 2013-02-15T20:51:00Z 35                  79                    \n",
       "  HOURLYDRYBULBTEMPF HOURLYWETBULBTEMPF HOURLYPrecip HOURLYWindSpeed\n",
       "1 83                 68                 0.00         13             \n",
       "2 53                 44                 0.00          6             \n",
       "3 36                 35                 0.00         13             \n",
       "4 36                 30                 0.00         14             \n",
       "5 39                 34                 T            11             \n",
       "6 41                 38                 0.00          6             \n",
       "  HOURLYSeaLevelPressure HOURLYStationPressure\n",
       "1 30.01                  29.99                \n",
       "2 30.05                  30.03                \n",
       "3 30.14                  30.12                \n",
       "4 29.82                  29.80                \n",
       "5    NA                  30.50                \n",
       "6 29.94                  29.92                "
      ]
     },
     "metadata": {},
     "output_type": "display_data"
    },
    {
     "name": "stdout",
     "output_type": "stream",
     "text": [
      "Rows: 5,727\n",
      "Columns: 9\n",
      "$ DATE                   \u001b[3m\u001b[90m<chr>\u001b[39m\u001b[23m \"2015-07-25T13:51:00Z\", \"2016-11-18T23:51:00Z\",…\n",
      "$ HOURLYDewPointTempF    \u001b[3m\u001b[90m<chr>\u001b[39m\u001b[23m \"60\", \"34\", \"33\", \"18\", \"27\", \"35\", \"4\", \"14\", …\n",
      "$ HOURLYRelativeHumidity \u001b[3m\u001b[90m<int>\u001b[39m\u001b[23m 46, 48, 89, 48, 61, 79, 51, 65, 90, 94, 79, 37,…\n",
      "$ HOURLYDRYBULBTEMPF     \u001b[3m\u001b[90m<int>\u001b[39m\u001b[23m 83, 53, 36, 36, 39, 41, 19, 24, 54, 73, 83, 44,…\n",
      "$ HOURLYWETBULBTEMPF     \u001b[3m\u001b[90m<int>\u001b[39m\u001b[23m 68, 44, 35, 30, 34, 38, 15, 21, 52, 72, 78, 35,…\n",
      "$ HOURLYPrecip           \u001b[3m\u001b[90m<chr>\u001b[39m\u001b[23m \"0.00\", \"0.00\", \"0.00\", \"0.00\", \"T\", \"0.00\", \"0…\n",
      "$ HOURLYWindSpeed        \u001b[3m\u001b[90m<int>\u001b[39m\u001b[23m 13, 6, 13, 14, 11, 6, 0, 11, 11, 5, 21, 7, 17, …\n",
      "$ HOURLYSeaLevelPressure \u001b[3m\u001b[90m<dbl>\u001b[39m\u001b[23m 30.01, 30.05, 30.14, 29.82, NA, 29.94, 30.42, 3…\n",
      "$ HOURLYStationPressure  \u001b[3m\u001b[90m<dbl>\u001b[39m\u001b[23m 29.99, 30.03, 30.12, 29.80, 30.50, 29.92, 30.40…\n"
     ]
    }
   ],
   "source": [
    "jfk_weather_sample_df <-read.csv(\"noaa-weather-sample-data/jfk_weather_sample.csv\")\n",
    "head(jfk_weather_sample_df)\n",
    "glimpse(jfk_weather_sample_df)"
   ]
  },
  {
   "cell_type": "markdown",
   "id": "7e94ce0b",
   "metadata": {
    "id": "LUetqAE8ze4x",
    "papermill": {
     "duration": 0.008269,
     "end_time": "2022-07-26T01:07:29.330503",
     "exception": false,
     "start_time": "2022-07-26T01:07:29.322234",
     "status": "completed"
    },
    "tags": []
   },
   "source": [
    "## Data Preprocessing\n",
    "For preprocessing the following columns are selected and inspected:\n",
    "\n",
    "* HOURLYRelativeHumidity\n",
    "* HOURLYDRYBULBTEMPF\n",
    "* HOURLYPrecip\n",
    "* HOURLYWindSpeed\n",
    "* HOURLYStationPressure"
   ]
  },
  {
   "cell_type": "code",
   "execution_count": 5,
   "id": "313f9c30",
   "metadata": {
    "execution": {
     "iopub.execute_input": "2022-07-26T01:07:29.349555Z",
     "iopub.status.busy": "2022-07-26T01:07:29.348054Z",
     "iopub.status.idle": "2022-07-26T01:07:29.415511Z",
     "shell.execute_reply": "2022-07-26T01:07:29.413763Z"
    },
    "id": "ZA_AWl1gyyod",
    "papermill": {
     "duration": 0.079427,
     "end_time": "2022-07-26T01:07:29.417823",
     "exception": false,
     "start_time": "2022-07-26T01:07:29.338396",
     "status": "completed"
    },
    "tags": []
   },
   "outputs": [
    {
     "data": {
      "text/html": [
       "<table class=\"dataframe\">\n",
       "<caption>A data.frame: 10 × 5</caption>\n",
       "<thead>\n",
       "\t<tr><th></th><th scope=col>HOURLYRelativeHumidity</th><th scope=col>HOURLYDRYBULBTEMPF</th><th scope=col>HOURLYPrecip</th><th scope=col>HOURLYWindSpeed</th><th scope=col>HOURLYStationPressure</th></tr>\n",
       "\t<tr><th></th><th scope=col>&lt;int&gt;</th><th scope=col>&lt;int&gt;</th><th scope=col>&lt;chr&gt;</th><th scope=col>&lt;int&gt;</th><th scope=col>&lt;dbl&gt;</th></tr>\n",
       "</thead>\n",
       "<tbody>\n",
       "\t<tr><th scope=row>1</th><td>46</td><td>83</td><td>0.00</td><td>13</td><td>29.99</td></tr>\n",
       "\t<tr><th scope=row>2</th><td>48</td><td>53</td><td>0.00</td><td> 6</td><td>30.03</td></tr>\n",
       "\t<tr><th scope=row>3</th><td>89</td><td>36</td><td>0.00</td><td>13</td><td>30.12</td></tr>\n",
       "\t<tr><th scope=row>4</th><td>48</td><td>36</td><td>0.00</td><td>14</td><td>29.80</td></tr>\n",
       "\t<tr><th scope=row>5</th><td>61</td><td>39</td><td>T   </td><td>11</td><td>30.50</td></tr>\n",
       "\t<tr><th scope=row>6</th><td>79</td><td>41</td><td>0.00</td><td> 6</td><td>29.92</td></tr>\n",
       "\t<tr><th scope=row>7</th><td>51</td><td>19</td><td>0.00</td><td> 0</td><td>30.40</td></tr>\n",
       "\t<tr><th scope=row>8</th><td>65</td><td>24</td><td>0.00</td><td>11</td><td>30.35</td></tr>\n",
       "\t<tr><th scope=row>9</th><td>90</td><td>54</td><td>0.06</td><td>11</td><td>30.03</td></tr>\n",
       "\t<tr><th scope=row>10</th><td>94</td><td>73</td><td>NA  </td><td> 5</td><td>29.91</td></tr>\n",
       "</tbody>\n",
       "</table>\n"
      ],
      "text/latex": [
       "A data.frame: 10 × 5\n",
       "\\begin{tabular}{r|lllll}\n",
       "  & HOURLYRelativeHumidity & HOURLYDRYBULBTEMPF & HOURLYPrecip & HOURLYWindSpeed & HOURLYStationPressure\\\\\n",
       "  & <int> & <int> & <chr> & <int> & <dbl>\\\\\n",
       "\\hline\n",
       "\t1 & 46 & 83 & 0.00 & 13 & 29.99\\\\\n",
       "\t2 & 48 & 53 & 0.00 &  6 & 30.03\\\\\n",
       "\t3 & 89 & 36 & 0.00 & 13 & 30.12\\\\\n",
       "\t4 & 48 & 36 & 0.00 & 14 & 29.80\\\\\n",
       "\t5 & 61 & 39 & T    & 11 & 30.50\\\\\n",
       "\t6 & 79 & 41 & 0.00 &  6 & 29.92\\\\\n",
       "\t7 & 51 & 19 & 0.00 &  0 & 30.40\\\\\n",
       "\t8 & 65 & 24 & 0.00 & 11 & 30.35\\\\\n",
       "\t9 & 90 & 54 & 0.06 & 11 & 30.03\\\\\n",
       "\t10 & 94 & 73 & NA   &  5 & 29.91\\\\\n",
       "\\end{tabular}\n"
      ],
      "text/markdown": [
       "\n",
       "A data.frame: 10 × 5\n",
       "\n",
       "| <!--/--> | HOURLYRelativeHumidity &lt;int&gt; | HOURLYDRYBULBTEMPF &lt;int&gt; | HOURLYPrecip &lt;chr&gt; | HOURLYWindSpeed &lt;int&gt; | HOURLYStationPressure &lt;dbl&gt; |\n",
       "|---|---|---|---|---|---|\n",
       "| 1 | 46 | 83 | 0.00 | 13 | 29.99 |\n",
       "| 2 | 48 | 53 | 0.00 |  6 | 30.03 |\n",
       "| 3 | 89 | 36 | 0.00 | 13 | 30.12 |\n",
       "| 4 | 48 | 36 | 0.00 | 14 | 29.80 |\n",
       "| 5 | 61 | 39 | T    | 11 | 30.50 |\n",
       "| 6 | 79 | 41 | 0.00 |  6 | 29.92 |\n",
       "| 7 | 51 | 19 | 0.00 |  0 | 30.40 |\n",
       "| 8 | 65 | 24 | 0.00 | 11 | 30.35 |\n",
       "| 9 | 90 | 54 | 0.06 | 11 | 30.03 |\n",
       "| 10 | 94 | 73 | NA   |  5 | 29.91 |\n",
       "\n"
      ],
      "text/plain": [
       "   HOURLYRelativeHumidity HOURLYDRYBULBTEMPF HOURLYPrecip HOURLYWindSpeed\n",
       "1  46                     83                 0.00         13             \n",
       "2  48                     53                 0.00          6             \n",
       "3  89                     36                 0.00         13             \n",
       "4  48                     36                 0.00         14             \n",
       "5  61                     39                 T            11             \n",
       "6  79                     41                 0.00          6             \n",
       "7  51                     19                 0.00          0             \n",
       "8  65                     24                 0.00         11             \n",
       "9  90                     54                 0.06         11             \n",
       "10 94                     73                 NA            5             \n",
       "   HOURLYStationPressure\n",
       "1  29.99                \n",
       "2  30.03                \n",
       "3  30.12                \n",
       "4  29.80                \n",
       "5  30.50                \n",
       "6  29.92                \n",
       "7  30.40                \n",
       "8  30.35                \n",
       "9  30.03                \n",
       "10 29.91                "
      ]
     },
     "metadata": {},
     "output_type": "display_data"
    }
   ],
   "source": [
    "jfk_weather_sub_df <- jfk_weather_sample_df %>%\n",
    " select(HOURLYRelativeHumidity, HOURLYDRYBULBTEMPF, HOURLYPrecip, HOURLYWindSpeed, HOURLYStationPressure)\n",
    "\n",
    "head(jfk_weather_sub_df, 10)"
   ]
  },
  {
   "cell_type": "code",
   "execution_count": 6,
   "id": "4a25a206",
   "metadata": {
    "execution": {
     "iopub.execute_input": "2022-07-26T01:07:29.438472Z",
     "iopub.status.busy": "2022-07-26T01:07:29.436840Z",
     "iopub.status.idle": "2022-07-26T01:07:29.455877Z",
     "shell.execute_reply": "2022-07-26T01:07:29.454057Z"
    },
    "id": "cB4KDuna0tam",
    "papermill": {
     "duration": 0.031288,
     "end_time": "2022-07-26T01:07:29.458140",
     "exception": false,
     "start_time": "2022-07-26T01:07:29.426852",
     "status": "completed"
    },
    "tags": []
   },
   "outputs": [
    {
     "data": {
      "text/html": [
       "<style>\n",
       ".list-inline {list-style: none; margin:0; padding: 0}\n",
       ".list-inline>li {display: inline-block}\n",
       ".list-inline>li:not(:last-child)::after {content: \"\\00b7\"; padding: 0 .5ex}\n",
       "</style>\n",
       "<ol class=list-inline><li>'0.00'</li><li>'T'</li><li>'0.06'</li><li>NA</li><li>'0.03'</li><li>'0.02'</li><li>'0.08'</li><li>'0.01'</li><li>'0.07'</li><li>'0.16'</li><li>'0.09'</li><li>'0.22'</li><li>'0.02s'</li><li>'0.24'</li><li>'0.18'</li><li>'0.05'</li><li>'0.04'</li><li>'0.09s'</li><li>'0.11'</li><li>'0.14'</li><li>'0.25'</li><li>'0.10'</li><li>'0.01s'</li><li>'0.58'</li><li>'0.12'</li><li>'0.13'</li><li>'0.46'</li><li>'1.07'</li><li>'1.19'</li><li>'0.34'</li><li>'0.20'</li><li>'0.36s'</li><li>'0.42'</li><li>'0.17'</li><li>'0.27'</li><li>'0.35'</li><li>'0.31'</li><li>'0.33'</li><li>'0.23'</li><li>'0.26'</li><li>'0.28'</li><li>'0.75'</li><li>'0.19'</li><li>'0.36'</li><li>'0.03s'</li><li>'0.07s'</li><li>'0.54'</li><li>'0.59'</li><li>'0.21'</li></ol>\n"
      ],
      "text/latex": [
       "\\begin{enumerate*}\n",
       "\\item '0.00'\n",
       "\\item 'T'\n",
       "\\item '0.06'\n",
       "\\item NA\n",
       "\\item '0.03'\n",
       "\\item '0.02'\n",
       "\\item '0.08'\n",
       "\\item '0.01'\n",
       "\\item '0.07'\n",
       "\\item '0.16'\n",
       "\\item '0.09'\n",
       "\\item '0.22'\n",
       "\\item '0.02s'\n",
       "\\item '0.24'\n",
       "\\item '0.18'\n",
       "\\item '0.05'\n",
       "\\item '0.04'\n",
       "\\item '0.09s'\n",
       "\\item '0.11'\n",
       "\\item '0.14'\n",
       "\\item '0.25'\n",
       "\\item '0.10'\n",
       "\\item '0.01s'\n",
       "\\item '0.58'\n",
       "\\item '0.12'\n",
       "\\item '0.13'\n",
       "\\item '0.46'\n",
       "\\item '1.07'\n",
       "\\item '1.19'\n",
       "\\item '0.34'\n",
       "\\item '0.20'\n",
       "\\item '0.36s'\n",
       "\\item '0.42'\n",
       "\\item '0.17'\n",
       "\\item '0.27'\n",
       "\\item '0.35'\n",
       "\\item '0.31'\n",
       "\\item '0.33'\n",
       "\\item '0.23'\n",
       "\\item '0.26'\n",
       "\\item '0.28'\n",
       "\\item '0.75'\n",
       "\\item '0.19'\n",
       "\\item '0.36'\n",
       "\\item '0.03s'\n",
       "\\item '0.07s'\n",
       "\\item '0.54'\n",
       "\\item '0.59'\n",
       "\\item '0.21'\n",
       "\\end{enumerate*}\n"
      ],
      "text/markdown": [
       "1. '0.00'\n",
       "2. 'T'\n",
       "3. '0.06'\n",
       "4. NA\n",
       "5. '0.03'\n",
       "6. '0.02'\n",
       "7. '0.08'\n",
       "8. '0.01'\n",
       "9. '0.07'\n",
       "10. '0.16'\n",
       "11. '0.09'\n",
       "12. '0.22'\n",
       "13. '0.02s'\n",
       "14. '0.24'\n",
       "15. '0.18'\n",
       "16. '0.05'\n",
       "17. '0.04'\n",
       "18. '0.09s'\n",
       "19. '0.11'\n",
       "20. '0.14'\n",
       "21. '0.25'\n",
       "22. '0.10'\n",
       "23. '0.01s'\n",
       "24. '0.58'\n",
       "25. '0.12'\n",
       "26. '0.13'\n",
       "27. '0.46'\n",
       "28. '1.07'\n",
       "29. '1.19'\n",
       "30. '0.34'\n",
       "31. '0.20'\n",
       "32. '0.36s'\n",
       "33. '0.42'\n",
       "34. '0.17'\n",
       "35. '0.27'\n",
       "36. '0.35'\n",
       "37. '0.31'\n",
       "38. '0.33'\n",
       "39. '0.23'\n",
       "40. '0.26'\n",
       "41. '0.28'\n",
       "42. '0.75'\n",
       "43. '0.19'\n",
       "44. '0.36'\n",
       "45. '0.03s'\n",
       "46. '0.07s'\n",
       "47. '0.54'\n",
       "48. '0.59'\n",
       "49. '0.21'\n",
       "\n",
       "\n"
      ],
      "text/plain": [
       " [1] \"0.00\"  \"T\"     \"0.06\"  NA      \"0.03\"  \"0.02\"  \"0.08\"  \"0.01\"  \"0.07\" \n",
       "[10] \"0.16\"  \"0.09\"  \"0.22\"  \"0.02s\" \"0.24\"  \"0.18\"  \"0.05\"  \"0.04\"  \"0.09s\"\n",
       "[19] \"0.11\"  \"0.14\"  \"0.25\"  \"0.10\"  \"0.01s\" \"0.58\"  \"0.12\"  \"0.13\"  \"0.46\" \n",
       "[28] \"1.07\"  \"1.19\"  \"0.34\"  \"0.20\"  \"0.36s\" \"0.42\"  \"0.17\"  \"0.27\"  \"0.35\" \n",
       "[37] \"0.31\"  \"0.33\"  \"0.23\"  \"0.26\"  \"0.28\"  \"0.75\"  \"0.19\"  \"0.36\"  \"0.03s\"\n",
       "[46] \"0.07s\" \"0.54\"  \"0.59\"  \"0.21\" "
      ]
     },
     "metadata": {},
     "output_type": "display_data"
    }
   ],
   "source": [
    "unique(jfk_weather_sub_df$HOURLYPrecip)"
   ]
  },
  {
   "cell_type": "markdown",
   "id": "8ce0c3a4",
   "metadata": {
    "id": "GJ6sIsQg0mHw",
    "papermill": {
     "duration": 0.017529,
     "end_time": "2022-07-26T01:07:29.484553",
     "exception": false,
     "start_time": "2022-07-26T01:07:29.467024",
     "status": "completed"
    },
    "tags": []
   },
   "source": [
    "### Data Cleaning\n",
    "Cleaning values that have characters (\"T\" and \"s\")."
   ]
  },
  {
   "cell_type": "code",
   "execution_count": 7,
   "id": "160548a3",
   "metadata": {
    "execution": {
     "iopub.execute_input": "2022-07-26T01:07:29.506134Z",
     "iopub.status.busy": "2022-07-26T01:07:29.504460Z",
     "iopub.status.idle": "2022-07-26T01:07:29.558311Z",
     "shell.execute_reply": "2022-07-26T01:07:29.556646Z"
    },
    "id": "m_0mgfM21IB5",
    "papermill": {
     "duration": 0.066478,
     "end_time": "2022-07-26T01:07:29.560557",
     "exception": false,
     "start_time": "2022-07-26T01:07:29.494079",
     "status": "completed"
    },
    "tags": []
   },
   "outputs": [
    {
     "data": {
      "text/html": [
       "<style>\n",
       ".list-inline {list-style: none; margin:0; padding: 0}\n",
       ".list-inline>li {display: inline-block}\n",
       ".list-inline>li:not(:last-child)::after {content: \"\\00b7\"; padding: 0 .5ex}\n",
       "</style>\n",
       "<ol class=list-inline><li>'0.00'</li><li>'0.0'</li><li>'0.06'</li><li>NA</li><li>'0.03'</li><li>'0.02'</li><li>'0.08'</li><li>'0.01'</li><li>'0.07'</li><li>'0.16'</li><li>'0.09'</li><li>'0.22'</li><li>'0.24'</li><li>'0.18'</li><li>'0.05'</li><li>'0.04'</li><li>'0.11'</li><li>'0.14'</li><li>'0.25'</li><li>'0.10'</li><li>'0.58'</li><li>'0.12'</li><li>'0.13'</li><li>'0.46'</li><li>'1.07'</li><li>'1.19'</li><li>'0.34'</li><li>'0.20'</li><li>'0.36'</li><li>'0.42'</li><li>'0.17'</li><li>'0.27'</li><li>'0.35'</li><li>'0.31'</li><li>'0.33'</li><li>'0.23'</li><li>'0.26'</li><li>'0.28'</li><li>'0.75'</li><li>'0.19'</li><li>'0.54'</li><li>'0.59'</li><li>'0.21'</li></ol>\n"
      ],
      "text/latex": [
       "\\begin{enumerate*}\n",
       "\\item '0.00'\n",
       "\\item '0.0'\n",
       "\\item '0.06'\n",
       "\\item NA\n",
       "\\item '0.03'\n",
       "\\item '0.02'\n",
       "\\item '0.08'\n",
       "\\item '0.01'\n",
       "\\item '0.07'\n",
       "\\item '0.16'\n",
       "\\item '0.09'\n",
       "\\item '0.22'\n",
       "\\item '0.24'\n",
       "\\item '0.18'\n",
       "\\item '0.05'\n",
       "\\item '0.04'\n",
       "\\item '0.11'\n",
       "\\item '0.14'\n",
       "\\item '0.25'\n",
       "\\item '0.10'\n",
       "\\item '0.58'\n",
       "\\item '0.12'\n",
       "\\item '0.13'\n",
       "\\item '0.46'\n",
       "\\item '1.07'\n",
       "\\item '1.19'\n",
       "\\item '0.34'\n",
       "\\item '0.20'\n",
       "\\item '0.36'\n",
       "\\item '0.42'\n",
       "\\item '0.17'\n",
       "\\item '0.27'\n",
       "\\item '0.35'\n",
       "\\item '0.31'\n",
       "\\item '0.33'\n",
       "\\item '0.23'\n",
       "\\item '0.26'\n",
       "\\item '0.28'\n",
       "\\item '0.75'\n",
       "\\item '0.19'\n",
       "\\item '0.54'\n",
       "\\item '0.59'\n",
       "\\item '0.21'\n",
       "\\end{enumerate*}\n"
      ],
      "text/markdown": [
       "1. '0.00'\n",
       "2. '0.0'\n",
       "3. '0.06'\n",
       "4. NA\n",
       "5. '0.03'\n",
       "6. '0.02'\n",
       "7. '0.08'\n",
       "8. '0.01'\n",
       "9. '0.07'\n",
       "10. '0.16'\n",
       "11. '0.09'\n",
       "12. '0.22'\n",
       "13. '0.24'\n",
       "14. '0.18'\n",
       "15. '0.05'\n",
       "16. '0.04'\n",
       "17. '0.11'\n",
       "18. '0.14'\n",
       "19. '0.25'\n",
       "20. '0.10'\n",
       "21. '0.58'\n",
       "22. '0.12'\n",
       "23. '0.13'\n",
       "24. '0.46'\n",
       "25. '1.07'\n",
       "26. '1.19'\n",
       "27. '0.34'\n",
       "28. '0.20'\n",
       "29. '0.36'\n",
       "30. '0.42'\n",
       "31. '0.17'\n",
       "32. '0.27'\n",
       "33. '0.35'\n",
       "34. '0.31'\n",
       "35. '0.33'\n",
       "36. '0.23'\n",
       "37. '0.26'\n",
       "38. '0.28'\n",
       "39. '0.75'\n",
       "40. '0.19'\n",
       "41. '0.54'\n",
       "42. '0.59'\n",
       "43. '0.21'\n",
       "\n",
       "\n"
      ],
      "text/plain": [
       " [1] \"0.00\" \"0.0\"  \"0.06\" NA     \"0.03\" \"0.02\" \"0.08\" \"0.01\" \"0.07\" \"0.16\"\n",
       "[11] \"0.09\" \"0.22\" \"0.24\" \"0.18\" \"0.05\" \"0.04\" \"0.11\" \"0.14\" \"0.25\" \"0.10\"\n",
       "[21] \"0.58\" \"0.12\" \"0.13\" \"0.46\" \"1.07\" \"1.19\" \"0.34\" \"0.20\" \"0.36\" \"0.42\"\n",
       "[31] \"0.17\" \"0.27\" \"0.35\" \"0.31\" \"0.33\" \"0.23\" \"0.26\" \"0.28\" \"0.75\" \"0.19\"\n",
       "[41] \"0.54\" \"0.59\" \"0.21\""
      ]
     },
     "metadata": {},
     "output_type": "display_data"
    }
   ],
   "source": [
    "jfk_weather_sub_df2 <- jfk_weather_sub_df %>%\n",
    " mutate(HOURLYPrecip = str_replace_all(HOURLYPrecip, \"T\", \"0.0\"))\n",
    "\n",
    "jfk_weather_sub_df3 <- jfk_weather_sub_df2 %>%\n",
    " mutate(HOURLYPrecip = str_remove(HOURLYPrecip, pattern = \"s$\"))\n",
    "\n",
    "unique(jfk_weather_sub_df3$HOURLYPrecip)"
   ]
  },
  {
   "cell_type": "markdown",
   "id": "2180238c",
   "metadata": {
    "id": "8D8yKWIq18CM",
    "papermill": {
     "duration": 0.008949,
     "end_time": "2022-07-26T01:07:29.578465",
     "exception": false,
     "start_time": "2022-07-26T01:07:29.569516",
     "status": "completed"
    },
    "tags": []
   },
   "source": [
    "### Converting Datatype\n",
    "Convert HOURLYPrecip to the numeric"
   ]
  },
  {
   "cell_type": "code",
   "execution_count": 8,
   "id": "a627a58d",
   "metadata": {
    "execution": {
     "iopub.execute_input": "2022-07-26T01:07:29.600528Z",
     "iopub.status.busy": "2022-07-26T01:07:29.598882Z",
     "iopub.status.idle": "2022-07-26T01:07:29.666702Z",
     "shell.execute_reply": "2022-07-26T01:07:29.664909Z"
    },
    "id": "6zH9_ir317SJ",
    "papermill": {
     "duration": 0.081532,
     "end_time": "2022-07-26T01:07:29.669223",
     "exception": false,
     "start_time": "2022-07-26T01:07:29.587691",
     "status": "completed"
    },
    "tags": []
   },
   "outputs": [
    {
     "name": "stdout",
     "output_type": "stream",
     "text": [
      "Rows: 5,727\n",
      "Columns: 5\n",
      "$ HOURLYRelativeHumidity \u001b[3m\u001b[90m<int>\u001b[39m\u001b[23m 46, 48, 89, 48, 61, 79, 51, 65, 90, 94, 79, 37,…\n",
      "$ HOURLYDRYBULBTEMPF     \u001b[3m\u001b[90m<int>\u001b[39m\u001b[23m 83, 53, 36, 36, 39, 41, 19, 24, 54, 73, 83, 44,…\n",
      "$ HOURLYPrecip           \u001b[3m\u001b[90m<dbl>\u001b[39m\u001b[23m 0.00, 0.00, 0.00, 0.00, 0.00, 0.00, 0.00, 0.00,…\n",
      "$ HOURLYWindSpeed        \u001b[3m\u001b[90m<int>\u001b[39m\u001b[23m 13, 6, 13, 14, 11, 6, 0, 11, 11, 5, 21, 7, 17, …\n",
      "$ HOURLYStationPressure  \u001b[3m\u001b[90m<dbl>\u001b[39m\u001b[23m 29.99, 30.03, 30.12, 29.80, 30.50, 29.92, 30.40…\n"
     ]
    }
   ],
   "source": [
    "jfk_weather_sub_df4 <- jfk_weather_sub_df3 %>%\n",
    "  mutate_all(type.convert) %>%\n",
    "  mutate_if(is.character, as.numeric)\n",
    "\n",
    "glimpse(jfk_weather_sub_df4)"
   ]
  },
  {
   "cell_type": "markdown",
   "id": "9fb57492",
   "metadata": {
    "id": "gJLp8Sd32c9r",
    "papermill": {
     "duration": 0.008935,
     "end_time": "2022-07-26T01:07:29.687923",
     "exception": false,
     "start_time": "2022-07-26T01:07:29.678988",
     "status": "completed"
    },
    "tags": []
   },
   "source": [
    "### Renaming Columns\n",
    "\n",
    "*   'HOURLYRelativeHumidity' to 'relative_humidity'\n",
    "*   'HOURLYDRYBULBTEMPF' to 'dry_bulb_temp_f'\n",
    "*   'HOURLYPrecip' to 'precip'\n",
    "*   'HOURLYWindSpeed' to 'wind_speed'\n",
    "*   'HOURLYStationPressure' to 'station_pressure'"
   ]
  },
  {
   "cell_type": "code",
   "execution_count": 9,
   "id": "b768bc95",
   "metadata": {
    "execution": {
     "iopub.execute_input": "2022-07-26T01:07:29.708646Z",
     "iopub.status.busy": "2022-07-26T01:07:29.706986Z",
     "iopub.status.idle": "2022-07-26T01:07:29.733300Z",
     "shell.execute_reply": "2022-07-26T01:07:29.731643Z"
    },
    "id": "HqlX-ahr2dZo",
    "papermill": {
     "duration": 0.039033,
     "end_time": "2022-07-26T01:07:29.735649",
     "exception": false,
     "start_time": "2022-07-26T01:07:29.696616",
     "status": "completed"
    },
    "tags": []
   },
   "outputs": [
    {
     "name": "stdout",
     "output_type": "stream",
     "text": [
      "Rows: 5,727\n",
      "Columns: 5\n",
      "$ relative_humidity \u001b[3m\u001b[90m<int>\u001b[39m\u001b[23m 46, 48, 89, 48, 61, 79, 51, 65, 90, 94, 79, 37, 72, …\n",
      "$ dry_bulb_temp_f   \u001b[3m\u001b[90m<int>\u001b[39m\u001b[23m 83, 53, 36, 36, 39, 41, 19, 24, 54, 73, 83, 44, 57, …\n",
      "$ precip            \u001b[3m\u001b[90m<dbl>\u001b[39m\u001b[23m 0.00, 0.00, 0.00, 0.00, 0.00, 0.00, 0.00, 0.00, 0.06…\n",
      "$ wind_speed        \u001b[3m\u001b[90m<int>\u001b[39m\u001b[23m 13, 6, 13, 14, 11, 6, 0, 11, 11, 5, 21, 7, 17, 8, 3,…\n",
      "$ station_pressure  \u001b[3m\u001b[90m<dbl>\u001b[39m\u001b[23m 29.99, 30.03, 30.12, 29.80, 30.50, 29.92, 30.40, 30.…\n"
     ]
    }
   ],
   "source": [
    "jfk_weather_sub_df5 <- jfk_weather_sub_df4 %>% \n",
    "rename('relative_humidity' = 'HOURLYRelativeHumidity',\n",
    "'dry_bulb_temp_f' = 'HOURLYDRYBULBTEMPF',\n",
    "'precip' = 'HOURLYPrecip',\n",
    "'wind_speed' = 'HOURLYWindSpeed',\n",
    "'station_pressure' = 'HOURLYStationPressure')\n",
    "\n",
    "glimpse(jfk_weather_sub_df5)"
   ]
  },
  {
   "cell_type": "markdown",
   "id": "48a1bf2b",
   "metadata": {
    "id": "NUjm7Dux4ZHB",
    "papermill": {
     "duration": 0.00886,
     "end_time": "2022-07-26T01:07:29.753526",
     "exception": false,
     "start_time": "2022-07-26T01:07:29.744666",
     "status": "completed"
    },
    "tags": []
   },
   "source": [
    "## Data Training - Train/Test Split\n",
    "Splitting the data into a training (80%) and testing set (20%)."
   ]
  },
  {
   "cell_type": "code",
   "execution_count": 10,
   "id": "0103401e",
   "metadata": {
    "execution": {
     "iopub.execute_input": "2022-07-26T01:07:29.774816Z",
     "iopub.status.busy": "2022-07-26T01:07:29.773276Z",
     "iopub.status.idle": "2022-07-26T01:07:29.806370Z",
     "shell.execute_reply": "2022-07-26T01:07:29.804565Z"
    },
    "id": "ZD3Hx-TN4o4R",
    "papermill": {
     "duration": 0.046349,
     "end_time": "2022-07-26T01:07:29.808756",
     "exception": false,
     "start_time": "2022-07-26T01:07:29.762407",
     "status": "completed"
    },
    "tags": []
   },
   "outputs": [],
   "source": [
    "set.seed(1234)\n",
    "train_test <- initial_split(jfk_weather_sub_df5, prop = 0.8)\n",
    "train_set <- training(train_test)\n",
    "test_set <- testing(train_test)"
   ]
  },
  {
   "cell_type": "markdown",
   "id": "0ce4a423",
   "metadata": {
    "id": "UeDAPXRb46Pp",
    "papermill": {
     "duration": 0.009161,
     "end_time": "2022-07-26T01:07:29.827246",
     "exception": false,
     "start_time": "2022-07-26T01:07:29.818085",
     "status": "completed"
    },
    "tags": []
   },
   "source": [
    "## Data Modeling - Simple Linear Regression\n",
    "Exploring four simple linear regression models where:\n",
    "* precip as the dependent variable ~ relative_humidity as independent variable\n",
    "* precip ~ dry_bulb_temp_f\n",
    "* precip ~ wind_speed\n",
    "* precip ~ station_pressure\n",
    "\n",
    "Also calculating R Square and RMSE for each model along the way."
   ]
  },
  {
   "cell_type": "code",
   "execution_count": 11,
   "id": "32b25fe2",
   "metadata": {
    "execution": {
     "iopub.execute_input": "2022-07-26T01:07:29.848868Z",
     "iopub.status.busy": "2022-07-26T01:07:29.847095Z",
     "iopub.status.idle": "2022-07-26T01:07:30.519658Z",
     "shell.execute_reply": "2022-07-26T01:07:30.517784Z"
    },
    "id": "5HwEZEWB5CTl",
    "papermill": {
     "duration": 0.685824,
     "end_time": "2022-07-26T01:07:30.521921",
     "exception": false,
     "start_time": "2022-07-26T01:07:29.836097",
     "status": "completed"
    },
    "tags": []
   },
   "outputs": [
    {
     "data": {
      "text/plain": [
       "\n",
       "Call:\n",
       "lm(formula = precip ~ relative_humidity, data = train_set)\n",
       "\n",
       "Coefficients:\n",
       "      (Intercept)  relative_humidity  \n",
       "       -0.0203017          0.0004074  \n"
      ]
     },
     "metadata": {},
     "output_type": "display_data"
    },
    {
     "data": {
      "text/html": [
       "0.00181764814899982"
      ],
      "text/latex": [
       "0.00181764814899982"
      ],
      "text/markdown": [
       "0.00181764814899982"
      ],
      "text/plain": [
       "[1] 0.001817648"
      ]
     },
     "metadata": {},
     "output_type": "display_data"
    },
    {
     "data": {
      "text/html": [
       "0.042633884986004"
      ],
      "text/latex": [
       "0.042633884986004"
      ],
      "text/markdown": [
       "0.042633884986004"
      ],
      "text/plain": [
       "[1] 0.04263388"
      ]
     },
     "metadata": {},
     "output_type": "display_data"
    },
    {
     "data": {
      "text/html": [
       "0.0348125959119728"
      ],
      "text/latex": [
       "0.0348125959119728"
      ],
      "text/markdown": [
       "0.0348125959119728"
      ],
      "text/plain": [
       "[1] 0.0348126"
      ]
     },
     "metadata": {},
     "output_type": "display_data"
    },
    {
     "name": "stderr",
     "output_type": "stream",
     "text": [
      "Warning message:\n",
      "“Removed 1349 rows containing missing values (geom_point).”\n"
     ]
    },
    {
     "data": {
      "image/png": "[encoded data removed]"
     },
     "metadata": {
      "image/png": {
       "height": 420,
       "width": 420
      }
     },
     "output_type": "display_data"
    }
   ],
   "source": [
    "lm_1_train <- lm(precip ~ relative_humidity, data = train_set)\n",
    "lm_1_train\n",
    "\n",
    "mse_lm_1_train <- mean(lm_1_train$residuals^2)\n",
    "mse_lm_1_train\n",
    "\n",
    "rmse_lm_1_train <- sqrt(mse_lm_1_train)\n",
    "rmse_lm_1_train\n",
    "\n",
    "summary(lm_1_train)$r.squared\n",
    "\n",
    "\n",
    "train_set %>%\n",
    "ggplot(aes(relative_humidity, precip))+\n",
    "  geom_point()"
   ]
  },
  {
   "cell_type": "code",
   "execution_count": 12,
   "id": "f5d29fa0",
   "metadata": {
    "execution": {
     "iopub.execute_input": "2022-07-26T01:07:30.546807Z",
     "iopub.status.busy": "2022-07-26T01:07:30.545149Z",
     "iopub.status.idle": "2022-07-26T01:07:30.951026Z",
     "shell.execute_reply": "2022-07-26T01:07:30.949134Z"
    },
    "id": "cFUCC-1N6H2b",
    "papermill": {
     "duration": 0.421011,
     "end_time": "2022-07-26T01:07:30.953862",
     "exception": false,
     "start_time": "2022-07-26T01:07:30.532851",
     "status": "completed"
    },
    "tags": []
   },
   "outputs": [
    {
     "data": {
      "text/plain": [
       "\n",
       "Call:\n",
       "lm(formula = precip ~ dry_bulb_temp_f, data = train_set)\n",
       "\n",
       "Coefficients:\n",
       "    (Intercept)  dry_bulb_temp_f  \n",
       "      4.752e-03        3.226e-05  \n"
      ]
     },
     "metadata": {},
     "output_type": "display_data"
    },
    {
     "data": {
      "text/html": [
       "0.0018828990789009"
      ],
      "text/latex": [
       "0.0018828990789009"
      ],
      "text/markdown": [
       "0.0018828990789009"
      ],
      "text/plain": [
       "[1] 0.001882899"
      ]
     },
     "metadata": {},
     "output_type": "display_data"
    },
    {
     "data": {
      "text/html": [
       "0.043392385033562"
      ],
      "text/latex": [
       "0.043392385033562"
      ],
      "text/markdown": [
       "0.043392385033562"
      ],
      "text/plain": [
       "[1] 0.04339239"
      ]
     },
     "metadata": {},
     "output_type": "display_data"
    },
    {
     "data": {
      "text/html": [
       "0.00016376925087888"
      ],
      "text/latex": [
       "0.00016376925087888"
      ],
      "text/markdown": [
       "0.00016376925087888"
      ],
      "text/plain": [
       "[1] 0.0001637693"
      ]
     },
     "metadata": {},
     "output_type": "display_data"
    },
    {
     "name": "stderr",
     "output_type": "stream",
     "text": [
      "Warning message:\n",
      "“Removed 1349 rows containing missing values (geom_point).”\n"
     ]
    },
    {
     "data": {
      "image/png": "[encoded data removed]"
     },
     "metadata": {
      "image/png": {
       "height": 420,
       "width": 420
      }
     },
     "output_type": "display_data"
    }
   ],
   "source": [
    "lm_2_train <- lm(precip ~ dry_bulb_temp_f, data = train_set)\n",
    "lm_2_train\n",
    "\n",
    "mse_lm_2_train <- mean(lm_2_train$residuals^2)\n",
    "mse_lm_2_train\n",
    "\n",
    "rmse_lm_2_train <- sqrt(mse_lm_2_train)\n",
    "rmse_lm_2_train\n",
    "\n",
    "summary(lm_2_train)$r.squared\n",
    "\n",
    "\n",
    "train_set %>%\n",
    "ggplot(aes(dry_bulb_temp_f, precip))+\n",
    "  geom_point()"
   ]
  },
  {
   "cell_type": "code",
   "execution_count": 13,
   "id": "5c90a701",
   "metadata": {
    "execution": {
     "iopub.execute_input": "2022-07-26T01:07:30.982782Z",
     "iopub.status.busy": "2022-07-26T01:07:30.981224Z",
     "iopub.status.idle": "2022-07-26T01:07:31.364238Z",
     "shell.execute_reply": "2022-07-26T01:07:31.362352Z"
    },
    "id": "h41JWwdq6NDB",
    "papermill": {
     "duration": 0.400594,
     "end_time": "2022-07-26T01:07:31.366772",
     "exception": false,
     "start_time": "2022-07-26T01:07:30.966178",
     "status": "completed"
    },
    "tags": []
   },
   "outputs": [
    {
     "data": {
      "text/plain": [
       "\n",
       "Call:\n",
       "lm(formula = precip ~ wind_speed, data = train_set)\n",
       "\n",
       "Coefficients:\n",
       "(Intercept)   wind_speed  \n",
       "  0.0022478    0.0003811  \n"
      ]
     },
     "metadata": {},
     "output_type": "display_data"
    },
    {
     "data": {
      "text/html": [
       "0.00187762338508902"
      ],
      "text/latex": [
       "0.00187762338508902"
      ],
      "text/markdown": [
       "0.00187762338508902"
      ],
      "text/plain": [
       "[1] 0.001877623"
      ]
     },
     "metadata": {},
     "output_type": "display_data"
    },
    {
     "data": {
      "text/html": [
       "0.0433315518426125"
      ],
      "text/latex": [
       "0.0433315518426125"
      ],
      "text/markdown": [
       "0.0433315518426125"
      ],
      "text/plain": [
       "[1] 0.04333155"
      ]
     },
     "metadata": {},
     "output_type": "display_data"
    },
    {
     "data": {
      "text/html": [
       "0.00296520979252207"
      ],
      "text/latex": [
       "0.00296520979252207"
      ],
      "text/markdown": [
       "0.00296520979252207"
      ],
      "text/plain": [
       "[1] 0.00296521"
      ]
     },
     "metadata": {},
     "output_type": "display_data"
    },
    {
     "name": "stderr",
     "output_type": "stream",
     "text": [
      "Warning message:\n",
      "“Removed 1349 rows containing missing values (geom_point).”\n"
     ]
    },
    {
     "data": {
      "image/png": "[encoded data removed]"
     },
     "metadata": {
      "image/png": {
       "height": 420,
       "width": 420
      }
     },
     "output_type": "display_data"
    }
   ],
   "source": [
    "lm_3_train <- lm(precip ~ wind_speed, data = train_set)\n",
    "lm_3_train\n",
    "\n",
    "mse_lm_3_train <- mean(lm_3_train$residuals^2)\n",
    "mse_lm_3_train\n",
    "\n",
    "rmse_lm_3_train <- sqrt(mse_lm_3_train)\n",
    "rmse_lm_3_train\n",
    "\n",
    "summary(lm_3_train)$r.squared\n",
    "\n",
    "\n",
    "train_set %>%\n",
    "ggplot(aes(wind_speed, precip))+\n",
    "  geom_point()"
   ]
  },
  {
   "cell_type": "code",
   "execution_count": 14,
   "id": "7b479ec4",
   "metadata": {
    "execution": {
     "iopub.execute_input": "2022-07-26T01:07:31.397687Z",
     "iopub.status.busy": "2022-07-26T01:07:31.396051Z",
     "iopub.status.idle": "2022-07-26T01:07:31.790237Z",
     "shell.execute_reply": "2022-07-26T01:07:31.788341Z"
    },
    "id": "ruz9eWIr6PuY",
    "papermill": {
     "duration": 0.412595,
     "end_time": "2022-07-26T01:07:31.792871",
     "exception": false,
     "start_time": "2022-07-26T01:07:31.380276",
     "status": "completed"
    },
    "tags": []
   },
   "outputs": [
    {
     "data": {
      "text/plain": [
       "\n",
       "Call:\n",
       "lm(formula = precip ~ station_pressure, data = train_set)\n",
       "\n",
       "Coefficients:\n",
       "     (Intercept)  station_pressure  \n",
       "          0.6844           -0.0226  \n"
      ]
     },
     "metadata": {},
     "output_type": "display_data"
    },
    {
     "data": {
      "text/html": [
       "0.00185564895858205"
      ],
      "text/latex": [
       "0.00185564895858205"
      ],
      "text/markdown": [
       "0.00185564895858205"
      ],
      "text/plain": [
       "[1] 0.001855649"
      ]
     },
     "metadata": {},
     "output_type": "display_data"
    },
    {
     "data": {
      "text/html": [
       "0.0430772440922356"
      ],
      "text/latex": [
       "0.0430772440922356"
      ],
      "text/markdown": [
       "0.0430772440922356"
      ],
      "text/plain": [
       "[1] 0.04307724"
      ]
     },
     "metadata": {},
     "output_type": "display_data"
    },
    {
     "data": {
      "text/html": [
       "0.01557426038156"
      ],
      "text/latex": [
       "0.01557426038156"
      ],
      "text/markdown": [
       "0.01557426038156"
      ],
      "text/plain": [
       "[1] 0.01557426"
      ]
     },
     "metadata": {},
     "output_type": "display_data"
    },
    {
     "name": "stderr",
     "output_type": "stream",
     "text": [
      "Warning message:\n",
      "“Removed 1353 rows containing missing values (geom_point).”\n"
     ]
    },
    {
     "data": {
      "image/png": "[encoded data removed]"
     },
     "metadata": {
      "image/png": {
       "height": 420,
       "width": 420
      }
     },
     "output_type": "display_data"
    }
   ],
   "source": [
    "lm_4_train <- lm(precip ~ station_pressure, data = train_set)\n",
    "lm_4_train\n",
    "\n",
    "mse_lm_4_train <- mean(lm_4_train$residuals^2)\n",
    "mse_lm_4_train\n",
    "\n",
    "rmse_lm_4_train <- sqrt(mse_lm_4_train)\n",
    "rmse_lm_4_train\n",
    "\n",
    "summary(lm_4_train)$r.squared\n",
    "\n",
    "train_set %>%\n",
    "ggplot(aes(station_pressure, precip))+\n",
    "  geom_point()"
   ]
  },
  {
   "cell_type": "markdown",
   "id": "876a1244",
   "metadata": {
    "id": "Pnaf_tR76dMy",
    "papermill": {
     "duration": 0.014836,
     "end_time": "2022-07-26T01:07:31.822835",
     "exception": false,
     "start_time": "2022-07-26T01:07:31.807999",
     "status": "completed"
    },
    "tags": []
   },
   "source": [
    "## Data Modeling - Multiple Linear Regression\n",
    "Exploring two multiple linear regression models:\n",
    "\n",
    "* precip ~ relative_humidity + station_pressure \n",
    "* precip ~ relative_humidity + station_pressure + wind_speed\n",
    "\n",
    "Also calculating R Square and RMSE for each model along the way."
   ]
  },
  {
   "cell_type": "code",
   "execution_count": 15,
   "id": "7dd3af6c",
   "metadata": {
    "execution": {
     "iopub.execute_input": "2022-07-26T01:07:31.856225Z",
     "iopub.status.busy": "2022-07-26T01:07:31.854530Z",
     "iopub.status.idle": "2022-07-26T01:07:31.897475Z",
     "shell.execute_reply": "2022-07-26T01:07:31.895701Z"
    },
    "id": "XPgVwAW772wu",
    "papermill": {
     "duration": 0.062417,
     "end_time": "2022-07-26T01:07:31.899969",
     "exception": false,
     "start_time": "2022-07-26T01:07:31.837552",
     "status": "completed"
    },
    "tags": []
   },
   "outputs": [
    {
     "data": {
      "text/plain": [
       "\n",
       "Call:\n",
       "lm(formula = precip ~ relative_humidity + station_pressure, data = train_set)\n",
       "\n",
       "Coefficients:\n",
       "      (Intercept)  relative_humidity   station_pressure  \n",
       "        0.4382946          0.0003621         -0.0151897  \n"
      ]
     },
     "metadata": {},
     "output_type": "display_data"
    },
    {
     "data": {
      "text/html": [
       "0.00180708710894933"
      ],
      "text/latex": [
       "0.00180708710894933"
      ],
      "text/markdown": [
       "0.00180708710894933"
      ],
      "text/plain": [
       "[1] 0.001807087"
      ]
     },
     "metadata": {},
     "output_type": "display_data"
    },
    {
     "data": {
      "text/html": [
       "0.0425098471997881"
      ],
      "text/latex": [
       "0.0425098471997881"
      ],
      "text/markdown": [
       "0.0425098471997881"
      ],
      "text/plain": [
       "[1] 0.04250985"
      ]
     },
     "metadata": {},
     "output_type": "display_data"
    },
    {
     "data": {
      "text/html": [
       "0.0413364254294442"
      ],
      "text/latex": [
       "0.0413364254294442"
      ],
      "text/markdown": [
       "0.0413364254294442"
      ],
      "text/plain": [
       "[1] 0.04133643"
      ]
     },
     "metadata": {},
     "output_type": "display_data"
    }
   ],
   "source": [
    "mlr_1_train <- lm(precip ~ relative_humidity + station_pressure, data = train_set)\n",
    "mlr_1_train\n",
    "\n",
    "mse_mlr_1_train <- mean(mlr_1_train$residuals^2)\n",
    "mse_mlr_1_train\n",
    "\n",
    "rmse_mlr_1_train <- sqrt(mse_mlr_1_train)\n",
    "rmse_mlr_1_train\n",
    "\n",
    "summary(mlr_1_train)$r.squared"
   ]
  },
  {
   "cell_type": "code",
   "execution_count": 16,
   "id": "63c0fd22",
   "metadata": {
    "execution": {
     "iopub.execute_input": "2022-07-26T01:07:31.934485Z",
     "iopub.status.busy": "2022-07-26T01:07:31.932922Z",
     "iopub.status.idle": "2022-07-26T01:07:31.986117Z",
     "shell.execute_reply": "2022-07-26T01:07:31.984294Z"
    },
    "id": "7-7O707M76Ox",
    "papermill": {
     "duration": 0.072528,
     "end_time": "2022-07-26T01:07:31.988443",
     "exception": false,
     "start_time": "2022-07-26T01:07:31.915915",
     "status": "completed"
    },
    "tags": []
   },
   "outputs": [
    {
     "data": {
      "text/plain": [
       "\n",
       "Call:\n",
       "lm(formula = precip ~ relative_humidity + station_pressure + \n",
       "    wind_speed, data = train_set)\n",
       "\n",
       "Coefficients:\n",
       "      (Intercept)  relative_humidity   station_pressure         wind_speed  \n",
       "        0.2610712          0.0004252         -0.0096480          0.0006087  \n"
      ]
     },
     "metadata": {},
     "output_type": "display_data"
    },
    {
     "data": {
      "text/html": [
       "0.00179548195192951"
      ],
      "text/latex": [
       "0.00179548195192951"
      ],
      "text/markdown": [
       "0.00179548195192951"
      ],
      "text/plain": [
       "[1] 0.001795482"
      ]
     },
     "metadata": {},
     "output_type": "display_data"
    },
    {
     "data": {
      "text/html": [
       "0.0423731277100182"
      ],
      "text/latex": [
       "0.0423731277100182"
      ],
      "text/markdown": [
       "0.0423731277100182"
      ],
      "text/plain": [
       "[1] 0.04237313"
      ]
     },
     "metadata": {},
     "output_type": "display_data"
    },
    {
     "data": {
      "text/html": [
       "0.0474929860384939"
      ],
      "text/latex": [
       "0.0474929860384939"
      ],
      "text/markdown": [
       "0.0474929860384939"
      ],
      "text/plain": [
       "[1] 0.04749299"
      ]
     },
     "metadata": {},
     "output_type": "display_data"
    }
   ],
   "source": [
    "mlr_2_train <- lm(precip ~ relative_humidity + station_pressure + wind_speed, data = train_set)\n",
    "mlr_2_train\n",
    "\n",
    "mse_mlr_2_train <- mean(mlr_2_train$residuals^2)\n",
    "mse_mlr_2_train\n",
    "\n",
    "rmse_mlr_2_train <- sqrt(mse_mlr_2_train)\n",
    "rmse_mlr_2_train\n",
    "\n",
    "summary(mlr_2_train)$r.squared"
   ]
  },
  {
   "cell_type": "markdown",
   "id": "0b6fc870",
   "metadata": {
    "id": "R1M6Wcyg72MH",
    "papermill": {
     "duration": 0.016395,
     "end_time": "2022-07-26T01:07:32.020530",
     "exception": false,
     "start_time": "2022-07-26T01:07:32.004135",
     "status": "completed"
    },
    "tags": []
   },
   "source": [
    "## Evaluating the models on the testing set"
   ]
  },
  {
   "cell_type": "code",
   "execution_count": 17,
   "id": "39261913",
   "metadata": {
    "execution": {
     "iopub.execute_input": "2022-07-26T01:07:32.056422Z",
     "iopub.status.busy": "2022-07-26T01:07:32.054590Z",
     "iopub.status.idle": "2022-07-26T01:07:32.090615Z",
     "shell.execute_reply": "2022-07-26T01:07:32.088645Z"
    },
    "id": "8LFnU-F28Mlw",
    "papermill": {
     "duration": 0.056344,
     "end_time": "2022-07-26T01:07:32.092863",
     "exception": false,
     "start_time": "2022-07-26T01:07:32.036519",
     "status": "completed"
    },
    "tags": []
   },
   "outputs": [
    {
     "data": {
      "text/html": [
       "0.00110360365471755"
      ],
      "text/latex": [
       "0.00110360365471755"
      ],
      "text/markdown": [
       "0.00110360365471755"
      ],
      "text/plain": [
       "[1] 0.001103604"
      ]
     },
     "metadata": {},
     "output_type": "display_data"
    },
    {
     "data": {
      "text/html": [
       "0.03322053062065"
      ],
      "text/latex": [
       "0.03322053062065"
      ],
      "text/markdown": [
       "0.03322053062065"
      ],
      "text/plain": [
       "[1] 0.03322053"
      ]
     },
     "metadata": {},
     "output_type": "display_data"
    },
    {
     "data": {
      "text/html": [
       "0.0587280705157021"
      ],
      "text/latex": [
       "0.0587280705157021"
      ],
      "text/markdown": [
       "0.0587280705157021"
      ],
      "text/plain": [
       "[1] 0.05872807"
      ]
     },
     "metadata": {},
     "output_type": "display_data"
    }
   ],
   "source": [
    "lm_1_test <- lm(precip ~ relative_humidity, data = test_set)\n",
    "\n",
    "mse_lm_1_test <- mean(lm_1_test$residuals^2)\n",
    "mse_lm_1_test\n",
    "\n",
    "rmse_lm_1_test <- sqrt(mse_lm_1_test)\n",
    "rmse_lm_1_test\n",
    "\n",
    "summary(lm_1_test)$r.squared"
   ]
  },
  {
   "cell_type": "code",
   "execution_count": 18,
   "id": "996a068c",
   "metadata": {
    "execution": {
     "iopub.execute_input": "2022-07-26T01:07:32.129092Z",
     "iopub.status.busy": "2022-07-26T01:07:32.127399Z",
     "iopub.status.idle": "2022-07-26T01:07:32.162877Z",
     "shell.execute_reply": "2022-07-26T01:07:32.161062Z"
    },
    "id": "-x2m66ok8RTP",
    "papermill": {
     "duration": 0.056019,
     "end_time": "2022-07-26T01:07:32.165075",
     "exception": false,
     "start_time": "2022-07-26T01:07:32.109056",
     "status": "completed"
    },
    "tags": []
   },
   "outputs": [
    {
     "data": {
      "text/html": [
       "0.00117242944490562"
      ],
      "text/latex": [
       "0.00117242944490562"
      ],
      "text/markdown": [
       "0.00117242944490562"
      ],
      "text/plain": [
       "[1] 0.001172429"
      ]
     },
     "metadata": {},
     "output_type": "display_data"
    },
    {
     "data": {
      "text/html": [
       "0.0342407570726119"
      ],
      "text/latex": [
       "0.0342407570726119"
      ],
      "text/markdown": [
       "0.0342407570726119"
      ],
      "text/plain": [
       "[1] 0.03424076"
      ]
     },
     "metadata": {},
     "output_type": "display_data"
    },
    {
     "data": {
      "text/html": [
       "2.60319245104704e-05"
      ],
      "text/latex": [
       "2.60319245104704e-05"
      ],
      "text/markdown": [
       "2.60319245104704e-05"
      ],
      "text/plain": [
       "[1] 2.603192e-05"
      ]
     },
     "metadata": {},
     "output_type": "display_data"
    }
   ],
   "source": [
    "lm_2_test <- lm(precip ~ dry_bulb_temp_f, data = test_set)\n",
    "\n",
    "mse_lm_2_test <- mean(lm_2_test$residuals^2)\n",
    "mse_lm_2_test\n",
    "\n",
    "rmse_lm_2_test <- sqrt(mse_lm_2_test)\n",
    "rmse_lm_2_test\n",
    "\n",
    "summary(lm_2_test)$r.squared"
   ]
  },
  {
   "cell_type": "code",
   "execution_count": 19,
   "id": "4290799a",
   "metadata": {
    "execution": {
     "iopub.execute_input": "2022-07-26T01:07:32.202395Z",
     "iopub.status.busy": "2022-07-26T01:07:32.200404Z",
     "iopub.status.idle": "2022-07-26T01:07:32.235509Z",
     "shell.execute_reply": "2022-07-26T01:07:32.233765Z"
    },
    "id": "q5dCxzZj8Tt4",
    "papermill": {
     "duration": 0.055849,
     "end_time": "2022-07-26T01:07:32.237749",
     "exception": false,
     "start_time": "2022-07-26T01:07:32.181900",
     "status": "completed"
    },
    "tags": []
   },
   "outputs": [
    {
     "data": {
      "text/html": [
       "0.00113024135567749"
      ],
      "text/latex": [
       "0.00113024135567749"
      ],
      "text/markdown": [
       "0.00113024135567749"
      ],
      "text/plain": [
       "[1] 0.001130241"
      ]
     },
     "metadata": {},
     "output_type": "display_data"
    },
    {
     "data": {
      "text/html": [
       "0.0336190623854605"
      ],
      "text/latex": [
       "0.0336190623854605"
      ],
      "text/markdown": [
       "0.0336190623854605"
      ],
      "text/plain": [
       "[1] 0.03361906"
      ]
     },
     "metadata": {},
     "output_type": "display_data"
    },
    {
     "data": {
      "text/html": [
       "0.0360085732827907"
      ],
      "text/latex": [
       "0.0360085732827907"
      ],
      "text/markdown": [
       "0.0360085732827907"
      ],
      "text/plain": [
       "[1] 0.03600857"
      ]
     },
     "metadata": {},
     "output_type": "display_data"
    }
   ],
   "source": [
    "lm_3_test <- lm(precip ~ wind_speed, data = test_set)\n",
    "\n",
    "mse_lm_3_test <- mean(lm_3_test$residuals^2)\n",
    "mse_lm_3_test\n",
    "\n",
    "rmse_lm_3_test <- sqrt(mse_lm_3_test)\n",
    "rmse_lm_3_test\n",
    "\n",
    "summary(lm_3_test)$r.squared"
   ]
  },
  {
   "cell_type": "code",
   "execution_count": 20,
   "id": "aebcf7f7",
   "metadata": {
    "execution": {
     "iopub.execute_input": "2022-07-26T01:07:32.275727Z",
     "iopub.status.busy": "2022-07-26T01:07:32.273991Z",
     "iopub.status.idle": "2022-07-26T01:07:32.309043Z",
     "shell.execute_reply": "2022-07-26T01:07:32.307230Z"
    },
    "id": "ME20D9p18Ww2",
    "papermill": {
     "duration": 0.056557,
     "end_time": "2022-07-26T01:07:32.311295",
     "exception": false,
     "start_time": "2022-07-26T01:07:32.254738",
     "status": "completed"
    },
    "tags": []
   },
   "outputs": [
    {
     "data": {
      "text/html": [
       "0.00113323284558055"
      ],
      "text/latex": [
       "0.00113323284558055"
      ],
      "text/markdown": [
       "0.00113323284558055"
      ],
      "text/plain": [
       "[1] 0.001133233"
      ]
     },
     "metadata": {},
     "output_type": "display_data"
    },
    {
     "data": {
      "text/html": [
       "0.0336635239626001"
      ],
      "text/latex": [
       "0.0336635239626001"
      ],
      "text/markdown": [
       "0.0336635239626001"
      ],
      "text/plain": [
       "[1] 0.03366352"
      ]
     },
     "metadata": {},
     "output_type": "display_data"
    },
    {
     "data": {
      "text/html": [
       "0.0334571088498333"
      ],
      "text/latex": [
       "0.0334571088498333"
      ],
      "text/markdown": [
       "0.0334571088498333"
      ],
      "text/plain": [
       "[1] 0.03345711"
      ]
     },
     "metadata": {},
     "output_type": "display_data"
    }
   ],
   "source": [
    "lm_4_test <- lm(precip ~ station_pressure, data = test_set)\n",
    "\n",
    "mse_lm_4_test <- mean(lm_4_test$residuals^2)\n",
    "mse_lm_4_test\n",
    "\n",
    "rmse_lm_4_test <- sqrt(mse_lm_4_test)\n",
    "rmse_lm_4_test\n",
    "\n",
    "summary(lm_4_test)$r.squared"
   ]
  },
  {
   "cell_type": "code",
   "execution_count": 21,
   "id": "70f2a53d",
   "metadata": {
    "execution": {
     "iopub.execute_input": "2022-07-26T01:07:32.349630Z",
     "iopub.status.busy": "2022-07-26T01:07:32.347904Z",
     "iopub.status.idle": "2022-07-26T01:07:32.391051Z",
     "shell.execute_reply": "2022-07-26T01:07:32.381479Z"
    },
    "id": "pn817-Jg8Z17",
    "papermill": {
     "duration": 0.064901,
     "end_time": "2022-07-26T01:07:32.393658",
     "exception": false,
     "start_time": "2022-07-26T01:07:32.328757",
     "status": "completed"
    },
    "tags": []
   },
   "outputs": [
    {
     "data": {
      "text/html": [
       "0.00108437125409705"
      ],
      "text/latex": [
       "0.00108437125409705"
      ],
      "text/markdown": [
       "0.00108437125409705"
      ],
      "text/plain": [
       "[1] 0.001084371"
      ]
     },
     "metadata": {},
     "output_type": "display_data"
    },
    {
     "data": {
      "text/html": [
       "0.0329297928037371"
      ],
      "text/latex": [
       "0.0329297928037371"
      ],
      "text/markdown": [
       "0.0329297928037371"
      ],
      "text/plain": [
       "[1] 0.03292979"
      ]
     },
     "metadata": {},
     "output_type": "display_data"
    },
    {
     "data": {
      "text/html": [
       "0.0751315309095512"
      ],
      "text/latex": [
       "0.0751315309095512"
      ],
      "text/markdown": [
       "0.0751315309095512"
      ],
      "text/plain": [
       "[1] 0.07513153"
      ]
     },
     "metadata": {},
     "output_type": "display_data"
    }
   ],
   "source": [
    "mlr_1_test <- lm(precip ~ relative_humidity + station_pressure, data = test_set)\n",
    "\n",
    "mse_mlr_1_test <- mean(mlr_1_test$residuals^2)\n",
    "mse_mlr_1_test\n",
    "\n",
    "rmse_mlr_1_test <- sqrt(mse_mlr_1_test)\n",
    "rmse_mlr_1_test\n",
    "\n",
    "summary(mlr_1_test)$r.squared"
   ]
  },
  {
   "cell_type": "code",
   "execution_count": 22,
   "id": "38d25882",
   "metadata": {
    "execution": {
     "iopub.execute_input": "2022-07-26T01:07:32.432970Z",
     "iopub.status.busy": "2022-07-26T01:07:32.431307Z",
     "iopub.status.idle": "2022-07-26T01:07:32.466590Z",
     "shell.execute_reply": "2022-07-26T01:07:32.464811Z"
    },
    "id": "Lol8q2hd8b_8",
    "papermill": {
     "duration": 0.057039,
     "end_time": "2022-07-26T01:07:32.468774",
     "exception": false,
     "start_time": "2022-07-26T01:07:32.411735",
     "status": "completed"
    },
    "tags": []
   },
   "outputs": [
    {
     "data": {
      "text/html": [
       "0.00103151334022962"
      ],
      "text/latex": [
       "0.00103151334022962"
      ],
      "text/markdown": [
       "0.00103151334022962"
      ],
      "text/plain": [
       "[1] 0.001031513"
      ]
     },
     "metadata": {},
     "output_type": "display_data"
    },
    {
     "data": {
      "text/html": [
       "0.0321171813867534"
      ],
      "text/latex": [
       "0.0321171813867534"
      ],
      "text/markdown": [
       "0.0321171813867534"
      ],
      "text/plain": [
       "[1] 0.03211718"
      ]
     },
     "metadata": {},
     "output_type": "display_data"
    },
    {
     "data": {
      "text/html": [
       "0.120214446648217"
      ],
      "text/latex": [
       "0.120214446648217"
      ],
      "text/markdown": [
       "0.120214446648217"
      ],
      "text/plain": [
       "[1] 0.1202144"
      ]
     },
     "metadata": {},
     "output_type": "display_data"
    }
   ],
   "source": [
    "mlr_2_test <- lm(precip ~ relative_humidity + station_pressure + wind_speed, data = test_set)\n",
    "\n",
    "mse_mlr_2_test <- mean(mlr_2_test$residuals^2)\n",
    "mse_mlr_2_test\n",
    "\n",
    "rmse_mlr_2_test <- sqrt(mse_mlr_2_test)\n",
    "rmse_mlr_2_test\n",
    "\n",
    "summary(mlr_2_test)$r.squared"
   ]
  },
  {
   "cell_type": "markdown",
   "id": "39a2be1d",
   "metadata": {
    "id": "TgR4VTKw8nqK",
    "papermill": {
     "duration": 0.018472,
     "end_time": "2022-07-26T01:07:32.504909",
     "exception": false,
     "start_time": "2022-07-26T01:07:32.486437",
     "status": "completed"
    },
    "tags": []
   },
   "source": [
    "## Finding the best model\n",
    "Evaluating the best model based on the highest R Square and the lowest RMSE."
   ]
  },
  {
   "cell_type": "code",
   "execution_count": 23,
   "id": "9c06fe57",
   "metadata": {
    "execution": {
     "iopub.execute_input": "2022-07-26T01:07:32.544919Z",
     "iopub.status.busy": "2022-07-26T01:07:32.543289Z",
     "iopub.status.idle": "2022-07-26T01:07:32.566177Z",
     "shell.execute_reply": "2022-07-26T01:07:32.564298Z"
    },
    "id": "6Qm6uA1G8q7b",
    "papermill": {
     "duration": 0.045559,
     "end_time": "2022-07-26T01:07:32.568619",
     "exception": false,
     "start_time": "2022-07-26T01:07:32.523060",
     "status": "completed"
    },
    "tags": []
   },
   "outputs": [],
   "source": [
    "model_names <- c(\"lm_1\", \"lm_2\", \"lm_3\", \"lm_4\", \"mlr_1\", \"mlr_2\")\n",
    "train_rmse <- c(\"0.042633884986004\", \"0.043392385033562\", \"0.0433315518426125\", \"0.0430772440922356\", \"0.0425098471997881\", \"0.0423731277100182\")\n",
    "test_rmse <- c(\"0.03322053062065\", \"0.0342407570726119\", \"0.0336190623854605\", \"0.0336635239626001\", \"0.0329297928037371\", \"0.0321171813867534\")\n",
    "train_rsquared <- c(\"0.0348125959119728\", \"0.00016376925087888\", \"0.00296520979252207\", \"0.01557426038156\", \"0.0413364254294442\", \"0.0474929860384939\")\n",
    "test_rsquared <- c(\"0.0587280705157021\", \"0.0000260319245104704\", \"0.0360085732827907\", \"0.0334571088498333\", \"0.0751315309095512\", \"0.120214446648217\")\n",
    "comparison_df <- data.frame(model_names, train_rmse, test_rmse, train_rsquared, test_rsquared)"
   ]
  },
  {
   "cell_type": "code",
   "execution_count": 24,
   "id": "6dc389bd",
   "metadata": {
    "execution": {
     "iopub.execute_input": "2022-07-26T01:07:32.608679Z",
     "iopub.status.busy": "2022-07-26T01:07:32.606869Z",
     "iopub.status.idle": "2022-07-26T01:07:32.635255Z",
     "shell.execute_reply": "2022-07-26T01:07:32.633230Z"
    },
    "id": "xuq4kHcg80mD",
    "papermill": {
     "duration": 0.050721,
     "end_time": "2022-07-26T01:07:32.637557",
     "exception": false,
     "start_time": "2022-07-26T01:07:32.586836",
     "status": "completed"
    },
    "tags": []
   },
   "outputs": [
    {
     "data": {
      "text/html": [
       "<table class=\"dataframe\">\n",
       "<caption>A data.frame: 6 × 5</caption>\n",
       "<thead>\n",
       "\t<tr><th scope=col>model_names</th><th scope=col>train_rmse</th><th scope=col>test_rmse</th><th scope=col>train_rsquared</th><th scope=col>test_rsquared</th></tr>\n",
       "\t<tr><th scope=col>&lt;chr&gt;</th><th scope=col>&lt;chr&gt;</th><th scope=col>&lt;chr&gt;</th><th scope=col>&lt;chr&gt;</th><th scope=col>&lt;chr&gt;</th></tr>\n",
       "</thead>\n",
       "<tbody>\n",
       "\t<tr><td>mlr_2</td><td>0.0423731277100182</td><td>0.0321171813867534</td><td>0.0474929860384939 </td><td>0.120214446648217    </td></tr>\n",
       "\t<tr><td>mlr_1</td><td>0.0425098471997881</td><td>0.0329297928037371</td><td>0.0413364254294442 </td><td>0.0751315309095512   </td></tr>\n",
       "\t<tr><td>lm_1 </td><td>0.042633884986004 </td><td>0.03322053062065  </td><td>0.0348125959119728 </td><td>0.0587280705157021   </td></tr>\n",
       "\t<tr><td>lm_4 </td><td>0.0430772440922356</td><td>0.0336635239626001</td><td>0.01557426038156   </td><td>0.0334571088498333   </td></tr>\n",
       "\t<tr><td>lm_3 </td><td>0.0433315518426125</td><td>0.0336190623854605</td><td>0.00296520979252207</td><td>0.0360085732827907   </td></tr>\n",
       "\t<tr><td>lm_2 </td><td>0.043392385033562 </td><td>0.0342407570726119</td><td>0.00016376925087888</td><td>0.0000260319245104704</td></tr>\n",
       "</tbody>\n",
       "</table>\n"
      ],
      "text/latex": [
       "A data.frame: 6 × 5\n",
       "\\begin{tabular}{lllll}\n",
       " model\\_names & train\\_rmse & test\\_rmse & train\\_rsquared & test\\_rsquared\\\\\n",
       " <chr> & <chr> & <chr> & <chr> & <chr>\\\\\n",
       "\\hline\n",
       "\t mlr\\_2 & 0.0423731277100182 & 0.0321171813867534 & 0.0474929860384939  & 0.120214446648217    \\\\\n",
       "\t mlr\\_1 & 0.0425098471997881 & 0.0329297928037371 & 0.0413364254294442  & 0.0751315309095512   \\\\\n",
       "\t lm\\_1  & 0.042633884986004  & 0.03322053062065   & 0.0348125959119728  & 0.0587280705157021   \\\\\n",
       "\t lm\\_4  & 0.0430772440922356 & 0.0336635239626001 & 0.01557426038156    & 0.0334571088498333   \\\\\n",
       "\t lm\\_3  & 0.0433315518426125 & 0.0336190623854605 & 0.00296520979252207 & 0.0360085732827907   \\\\\n",
       "\t lm\\_2  & 0.043392385033562  & 0.0342407570726119 & 0.00016376925087888 & 0.0000260319245104704\\\\\n",
       "\\end{tabular}\n"
      ],
      "text/markdown": [
       "\n",
       "A data.frame: 6 × 5\n",
       "\n",
       "| model_names &lt;chr&gt; | train_rmse &lt;chr&gt; | test_rmse &lt;chr&gt; | train_rsquared &lt;chr&gt; | test_rsquared &lt;chr&gt; |\n",
       "|---|---|---|---|---|\n",
       "| mlr_2 | 0.0423731277100182 | 0.0321171813867534 | 0.0474929860384939  | 0.120214446648217     |\n",
       "| mlr_1 | 0.0425098471997881 | 0.0329297928037371 | 0.0413364254294442  | 0.0751315309095512    |\n",
       "| lm_1  | 0.042633884986004  | 0.03322053062065   | 0.0348125959119728  | 0.0587280705157021    |\n",
       "| lm_4  | 0.0430772440922356 | 0.0336635239626001 | 0.01557426038156    | 0.0334571088498333    |\n",
       "| lm_3  | 0.0433315518426125 | 0.0336190623854605 | 0.00296520979252207 | 0.0360085732827907    |\n",
       "| lm_2  | 0.043392385033562  | 0.0342407570726119 | 0.00016376925087888 | 0.0000260319245104704 |\n",
       "\n"
      ],
      "text/plain": [
       "  model_names train_rmse         test_rmse          train_rsquared     \n",
       "1 mlr_2       0.0423731277100182 0.0321171813867534 0.0474929860384939 \n",
       "2 mlr_1       0.0425098471997881 0.0329297928037371 0.0413364254294442 \n",
       "3 lm_1        0.042633884986004  0.03322053062065   0.0348125959119728 \n",
       "4 lm_4        0.0430772440922356 0.0336635239626001 0.01557426038156   \n",
       "5 lm_3        0.0433315518426125 0.0336190623854605 0.00296520979252207\n",
       "6 lm_2        0.043392385033562  0.0342407570726119 0.00016376925087888\n",
       "  test_rsquared        \n",
       "1 0.120214446648217    \n",
       "2 0.0751315309095512   \n",
       "3 0.0587280705157021   \n",
       "4 0.0334571088498333   \n",
       "5 0.0360085732827907   \n",
       "6 0.0000260319245104704"
      ]
     },
     "metadata": {},
     "output_type": "display_data"
    }
   ],
   "source": [
    "comparison_df %>%\n",
    "#Comparison data frame is arrnaged by descending R-Squared values and ascending RMSE values\n",
    "arrange(desc(train_rsquared), train_rmse)\n",
    "#Based on the outcome, the mlr_2 offers the best model since the model has the highest R Square and the lowest RMSE."
   ]
  }
 ],
 "metadata": {
  "kernelspec": {
   "display_name": "R",
   "language": "R",
   "name": "ir"
  },
  "language_info": {
   "codemirror_mode": "r",
   "file_extension": ".r",
   "mimetype": "text/x-r-source",
   "name": "R",
   "pygments_lexer": "r",
   "version": "4.0.5"
  },
  "papermill": {
   "default_parameters": {},
   "duration": 48.09292,
   "end_time": "2022-07-26T01:07:32.776796",
   "environment_variables": {},
   "exception": null,
   "input_path": "__notebook__.ipynb",
   "output_path": "__notebook__.ipynb",
   "parameters": {},
   "start_time": "2022-07-26T01:06:44.683876",
   "version": "2.3.4"
  }
 },
 "nbformat": 4,
 "nbformat_minor": 5
}
